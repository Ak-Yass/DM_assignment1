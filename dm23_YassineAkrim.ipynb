{
  "cells": [
    {
      "cell_type": "markdown",
      "metadata": {
        "id": "hGfYrANBCkvB"
      },
      "source": [
        "### Importing Relevant Libraries"
      ]
    },
    {
      "cell_type": "code",
      "execution_count": null,
      "metadata": {
        "id": "3hRUP5jB-UPS"
      },
      "outputs": [],
      "source": [
        "## Importing relevant libraries\n",
        "\n",
        "import os\n",
        "import sys\n",
        "import numpy as np\n",
        "import pandas as pd\n",
        "import seaborn as sns\n",
        "import matplotlib.pyplot as plt\n",
        "\n",
        "from sklearn.preprocessing import LabelEncoder\n",
        "from sklearn.preprocessing import MinMaxScaler\n",
        "from sklearn.model_selection import train_test_split\n",
        "from sklearn.model_selection import GridSearchCV\n",
        "from sklearn.metrics import accuracy_score, recall_score, precision_score, f1_score\n",
        "\n",
        "# Machine Learning Libraries\n",
        "from sklearn.linear_model import LogisticRegression\n",
        "from sklearn.neighbors import KNeighborsClassifier\n",
        "from sklearn.svm import SVC\n",
        "from sklearn.naive_bayes import GaussianNB\n",
        "from sklearn.tree import DecisionTreeClassifier\n",
        "from sklearn.ensemble import RandomForestClassifier\n",
        "from sklearn.ensemble import GradientBoostingClassifier\n",
        "import xgboost as xgb\n",
        "from sklearn.linear_model import Perceptron\n",
        "from sklearn.linear_model import SGDClassifier\n",
        "from sklearn.neural_network import MLPClassifier\n",
        "import lightgbm as lgb\n",
        "\n",
        "# stop warnings\n",
        "import warnings\n",
        "warnings.filterwarnings('ignore')"
      ]
    },
    {
      "cell_type": "markdown",
      "metadata": {
        "id": "J2RrKYwBCqXz"
      },
      "source": [
        "### Loading the Dataset"
      ]
    },
    {
      "cell_type": "code",
      "execution_count": null,
      "metadata": {
        "colab": {
          "base_uri": "https://localhost:8080/",
          "height": 354
        },
        "id": "GgqSkUxe-UPa",
        "outputId": "65f7e953-6e28-475d-dc45-b575fec26ab2"
      },
      "outputs": [
        {
          "name": "stdout",
          "output_type": "stream",
          "text": [
            "(32561, 15)\n"
          ]
        },
        {
          "data": {
            "text/html": [
              "<div>\n",
              "<style scoped>\n",
              "    .dataframe tbody tr th:only-of-type {\n",
              "        vertical-align: middle;\n",
              "    }\n",
              "\n",
              "    .dataframe tbody tr th {\n",
              "        vertical-align: top;\n",
              "    }\n",
              "\n",
              "    .dataframe thead th {\n",
              "        text-align: right;\n",
              "    }\n",
              "</style>\n",
              "<table border=\"1\" class=\"dataframe\">\n",
              "  <thead>\n",
              "    <tr style=\"text-align: right;\">\n",
              "      <th></th>\n",
              "      <th>RowID</th>\n",
              "      <th>age</th>\n",
              "      <th>workclass</th>\n",
              "      <th>education</th>\n",
              "      <th>education-num</th>\n",
              "      <th>marital-status</th>\n",
              "      <th>occupation</th>\n",
              "      <th>relationship</th>\n",
              "      <th>race</th>\n",
              "      <th>sex</th>\n",
              "      <th>capital-gain</th>\n",
              "      <th>capital-loss</th>\n",
              "      <th>hours-per-week</th>\n",
              "      <th>native-country</th>\n",
              "      <th>class</th>\n",
              "    </tr>\n",
              "  </thead>\n",
              "  <tbody>\n",
              "    <tr>\n",
              "      <th>0</th>\n",
              "      <td>Row0</td>\n",
              "      <td>39</td>\n",
              "      <td>State-gov</td>\n",
              "      <td>Bachelors</td>\n",
              "      <td>13</td>\n",
              "      <td>Never-married</td>\n",
              "      <td>Adm-clerical</td>\n",
              "      <td>Not-in-family</td>\n",
              "      <td>White</td>\n",
              "      <td>Male</td>\n",
              "      <td>2174</td>\n",
              "      <td>0</td>\n",
              "      <td>40</td>\n",
              "      <td>United-States</td>\n",
              "      <td>&lt;=50K</td>\n",
              "    </tr>\n",
              "    <tr>\n",
              "      <th>1</th>\n",
              "      <td>Row1</td>\n",
              "      <td>50</td>\n",
              "      <td>Self-emp-not-inc</td>\n",
              "      <td>Bachelors</td>\n",
              "      <td>13</td>\n",
              "      <td>Married-civ-spouse</td>\n",
              "      <td>Exec-managerial</td>\n",
              "      <td>Husband</td>\n",
              "      <td>White</td>\n",
              "      <td>Male</td>\n",
              "      <td>0</td>\n",
              "      <td>0</td>\n",
              "      <td>13</td>\n",
              "      <td>United-States</td>\n",
              "      <td>&lt;=50K</td>\n",
              "    </tr>\n",
              "    <tr>\n",
              "      <th>2</th>\n",
              "      <td>Row2</td>\n",
              "      <td>38</td>\n",
              "      <td>Private</td>\n",
              "      <td>HS-grad</td>\n",
              "      <td>9</td>\n",
              "      <td>Divorced</td>\n",
              "      <td>Handlers-cleaners</td>\n",
              "      <td>Not-in-family</td>\n",
              "      <td>White</td>\n",
              "      <td>Male</td>\n",
              "      <td>0</td>\n",
              "      <td>0</td>\n",
              "      <td>40</td>\n",
              "      <td>United-States</td>\n",
              "      <td>&lt;=50K</td>\n",
              "    </tr>\n",
              "    <tr>\n",
              "      <th>3</th>\n",
              "      <td>Row3</td>\n",
              "      <td>53</td>\n",
              "      <td>Private</td>\n",
              "      <td>11th</td>\n",
              "      <td>7</td>\n",
              "      <td>Married-civ-spouse</td>\n",
              "      <td>Handlers-cleaners</td>\n",
              "      <td>Husband</td>\n",
              "      <td>Black</td>\n",
              "      <td>Male</td>\n",
              "      <td>0</td>\n",
              "      <td>0</td>\n",
              "      <td>40</td>\n",
              "      <td>United-States</td>\n",
              "      <td>&lt;=50K</td>\n",
              "    </tr>\n",
              "    <tr>\n",
              "      <th>4</th>\n",
              "      <td>Row4</td>\n",
              "      <td>28</td>\n",
              "      <td>Private</td>\n",
              "      <td>Bachelors</td>\n",
              "      <td>13</td>\n",
              "      <td>Married-civ-spouse</td>\n",
              "      <td>Prof-specialty</td>\n",
              "      <td>Wife</td>\n",
              "      <td>Black</td>\n",
              "      <td>Female</td>\n",
              "      <td>0</td>\n",
              "      <td>0</td>\n",
              "      <td>40</td>\n",
              "      <td>Cuba</td>\n",
              "      <td>&lt;=50K</td>\n",
              "    </tr>\n",
              "  </tbody>\n",
              "</table>\n",
              "</div>"
            ],
            "text/plain": [
              "  RowID  age         workclass  education  education-num      marital-status  \\\n",
              "0  Row0   39         State-gov  Bachelors             13       Never-married   \n",
              "1  Row1   50  Self-emp-not-inc  Bachelors             13  Married-civ-spouse   \n",
              "2  Row2   38           Private    HS-grad              9            Divorced   \n",
              "3  Row3   53           Private       11th              7  Married-civ-spouse   \n",
              "4  Row4   28           Private  Bachelors             13  Married-civ-spouse   \n",
              "\n",
              "          occupation   relationship   race     sex  capital-gain  \\\n",
              "0       Adm-clerical  Not-in-family  White    Male          2174   \n",
              "1    Exec-managerial        Husband  White    Male             0   \n",
              "2  Handlers-cleaners  Not-in-family  White    Male             0   \n",
              "3  Handlers-cleaners        Husband  Black    Male             0   \n",
              "4     Prof-specialty           Wife  Black  Female             0   \n",
              "\n",
              "   capital-loss  hours-per-week native-country  class  \n",
              "0             0              40  United-States  <=50K  \n",
              "1             0              13  United-States  <=50K  \n",
              "2             0              40  United-States  <=50K  \n",
              "3             0              40  United-States  <=50K  \n",
              "4             0              40           Cuba  <=50K  "
            ]
          },
          "execution_count": 2,
          "metadata": {},
          "output_type": "execute_result"
        }
      ],
      "source": [
        "# loading the data with income information\n",
        "\n",
        "income_data = pd.read_excel('data\\existing-customers.xlsx')\n",
        "print(income_data.shape)\n",
        "income_data.head()"
      ]
    },
    {
      "cell_type": "markdown",
      "metadata": {
        "id": "8Ebf7qmVCusD"
      },
      "source": [
        "### Data Exploration and Preprocessing"
      ]
    },
    {
      "cell_type": "code",
      "execution_count": null,
      "metadata": {
        "colab": {
          "base_uri": "https://localhost:8080/"
        },
        "id": "atCqdkrj-UPc",
        "outputId": "772e6e56-6040-433b-d3f1-3da5cca77f70"
      },
      "outputs": [
        {
          "name": "stdout",
          "output_type": "stream",
          "text": [
            "(32561, 14)\n"
          ]
        }
      ],
      "source": [
        "# removing RowID as it is a redundant column\n",
        "\n",
        "income_data = income_data.drop(['RowID'], axis=1)\n",
        "print(income_data.shape)"
      ]
    },
    {
      "cell_type": "code",
      "execution_count": null,
      "metadata": {
        "colab": {
          "base_uri": "https://localhost:8080/"
        },
        "id": "BCg4eZ2c-UPd",
        "outputId": "ab75c8f4-fb03-4795-e01a-f58daeb0e5c4"
      },
      "outputs": [
        {
          "name": "stdout",
          "output_type": "stream",
          "text": [
            "<class 'pandas.core.frame.DataFrame'>\n",
            "RangeIndex: 32561 entries, 0 to 32560\n",
            "Data columns (total 14 columns):\n",
            " #   Column          Non-Null Count  Dtype \n",
            "---  ------          --------------  ----- \n",
            " 0   age             32561 non-null  int64 \n",
            " 1   workclass       30725 non-null  object\n",
            " 2   education       32561 non-null  object\n",
            " 3   education-num   32561 non-null  int64 \n",
            " 4   marital-status  32561 non-null  object\n",
            " 5   occupation      30718 non-null  object\n",
            " 6   relationship    32561 non-null  object\n",
            " 7   race            32561 non-null  object\n",
            " 8   sex             32561 non-null  object\n",
            " 9   capital-gain    32561 non-null  int64 \n",
            " 10  capital-loss    32561 non-null  int64 \n",
            " 11  hours-per-week  32561 non-null  int64 \n",
            " 12  native-country  31978 non-null  object\n",
            " 13  class           32561 non-null  object\n",
            "dtypes: int64(5), object(9)\n",
            "memory usage: 3.5+ MB\n"
          ]
        }
      ],
      "source": [
        "# checking for missing values and data types\n",
        "\n",
        "income_data.info()"
      ]
    },
    {
      "cell_type": "code",
      "execution_count": null,
      "metadata": {
        "colab": {
          "base_uri": "https://localhost:8080/",
          "height": 598
        },
        "id": "W3GP7r3N-UPe",
        "outputId": "16e76e95-8368-4a6e-d653-5330da4a7038"
      },
      "outputs": [
        {
          "name": "stdout",
          "output_type": "stream",
          "text": [
            "workclass has 5.64% missing values\n",
            "occupation has 5.66% missing values\n",
            "native-country has 1.79% missing values\n"
          ]
        },
        {
          "data": {
            "image/png": "[encoded data removed]",
            "text/plain": [
              "<Figure size 640x480 with 1 Axes>"
            ]
          },
          "metadata": {},
          "output_type": "display_data"
        }
      ],
      "source": [
        "# checking for missing values\n",
        "# printing columns with missing values and their percentage\n",
        "for col in income_data.columns:\n",
        "    if income_data[col].isnull().sum() > 0:\n",
        "        print(f'{col} has {round(income_data[col].isnull().sum()/len(income_data[col])*100, 2)}% missing values')\n",
        "\n",
        "# plotting the missing values\n",
        "sns.heatmap(income_data.isnull(), cbar=False)\n",
        "plt.title('Missing Values')\n",
        "plt.yticks([])\n",
        "plt.show()"
      ]
    },
    {
      "cell_type": "code",
      "execution_count": null,
      "metadata": {
        "colab": {
          "base_uri": "https://localhost:8080/"
        },
        "id": "rGY3jbDg-UPf",
        "outputId": "f0880be9-7ecb-4ba7-d9cd-6dac511b3d73"
      },
      "outputs": [
        {
          "name": "stdout",
          "output_type": "stream",
          "text": [
            "0 missing values left.\n"
          ]
        }
      ],
      "source": [
        "# using mode to fill missing values, as all the columns with missing values are categorical\n",
        "\n",
        "income_data['workclass'] = income_data['workclass'].fillna(income_data['workclass'].mode()[0])\n",
        "income_data['occupation'] = income_data['occupation'].fillna(income_data['occupation'].mode()[0])\n",
        "income_data['native-country'] = income_data['native-country'].fillna(income_data['native-country'].mode()[0])\n",
        "\n",
        "print('{} missing values left.'.format(income_data.isnull().sum().sum()))"
      ]
    },
    {
      "cell_type": "code",
      "execution_count": null,
      "metadata": {
        "colab": {
          "base_uri": "https://localhost:8080/",
          "height": 607
        },
        "id": "60kcUhN9-UPh",
        "outputId": "a6a33de3-8baf-42f3-9968-089048d16512"
      },
      "outputs": [
        {
          "data": {
            "image/png": "[encoded data removed]",
            "text/plain": [
              "<Figure size 1200x600 with 5 Axes>"
            ]
          },
          "metadata": {},
          "output_type": "display_data"
        }
      ],
      "source": [
        "# data distribution in the numerical columns\n",
        "\n",
        "numerical_cols = income_data.select_dtypes(include=['int64', 'float64']).columns\n",
        "\n",
        "fig, ax = plt.subplots(2, 3, figsize=(12, 6))\n",
        "\n",
        "for i, col in enumerate(numerical_cols):\n",
        "    sns.distplot(income_data[col], ax=ax[i//3, i%3])\n",
        "    ax[i//3, i%3].set_title(col)\n",
        "\n",
        "for i in range(len(numerical_cols), 6):\n",
        "    fig.delaxes(ax[i//3, i%3])\n",
        "\n",
        "plt.tight_layout()\n",
        "plt.show()"
      ]
    },
    {
      "cell_type": "code",
      "execution_count": null,
      "metadata": {
        "colab": {
          "base_uri": "https://localhost:8080/",
          "height": 1000
        },
        "id": "_PAYyE8_-UPj",
        "outputId": "089b0be6-d2e1-484c-bfd7-815acb4107c1"
      },
      "outputs": [
        {
          "data": {
            "image/png": "[encoded data removed]",
            "text/plain": [
              "<Figure size 1500x1500 with 9 Axes>"
            ]
          },
          "metadata": {},
          "output_type": "display_data"
        }
      ],
      "source": [
        "# data distribution in the categorical columns\n",
        "\n",
        "categorical_cols = income_data.select_dtypes(include=['object']).columns\n",
        "\n",
        "# plotting the categorical columns\n",
        "fig, ax = plt.subplots(3, 3, figsize=(15, 15))\n",
        "for i, col in enumerate(categorical_cols):\n",
        "    income_data[col].value_counts().plot(kind='bar', ax=ax[i//3, i%3])\n",
        "    ax[i//3, i%3].set_title(col)\n",
        "    ax[i//3, i%3].set_xticklabels(income_data[col].value_counts().index, rotation=45, size=8, ha='right')\n",
        "\n",
        "for i in range(len(categorical_cols), 9):\n",
        "    fig.delaxes(ax[i//3, i%3])\n",
        "\n",
        "plt.tight_layout()\n",
        "plt.show()"
      ]
    },
    {
      "cell_type": "code",
      "execution_count": null,
      "metadata": {
        "colab": {
          "base_uri": "https://localhost:8080/"
        },
        "id": "2ie9wuNX-UPk",
        "outputId": "260d72bc-b0a9-4634-fdac-88d96b6438bd"
      },
      "outputs": [
        {
          "name": "stdout",
          "output_type": "stream",
          "text": [
            "workclass has 8 unique values.\n",
            "education has 16 unique values.\n",
            "marital-status has 7 unique values.\n",
            "occupation has 14 unique values.\n",
            "relationship has 6 unique values.\n",
            "race has 5 unique values.\n",
            "sex has 2 unique values.\n",
            "native-country has 41 unique values.\n",
            "class has 2 unique values.\n"
          ]
        }
      ],
      "source": [
        "# unique values in each cateforical column\n",
        "\n",
        "for col in categorical_cols:\n",
        "    print(f'{col} has {income_data[col].nunique()} unique values.')"
      ]
    },
    {
      "cell_type": "code",
      "execution_count": null,
      "metadata": {
        "colab": {
          "base_uri": "https://localhost:8080/"
        },
        "id": "KotA9GcV-UPl",
        "outputId": "dc13ccd4-efa0-42fa-da1b-71e6cfe42f5b"
      },
      "outputs": [
        {
          "name": "stdout",
          "output_type": "stream",
          "text": [
            "(32561, 13) (32561,)\n"
          ]
        }
      ],
      "source": [
        "# declaring the features and target\n",
        "\n",
        "X = income_data.drop(['class'], axis=1)\n",
        "y = income_data['class']\n",
        "\n",
        "print(X.shape, y.shape)"
      ]
    },
    {
      "cell_type": "code",
      "execution_count": null,
      "metadata": {
        "colab": {
          "base_uri": "https://localhost:8080/"
        },
        "id": "_39PJd4U-UPm",
        "outputId": "b159c550-3212-4f98-93ec-fdcb5dcd4854"
      },
      "outputs": [
        {
          "name": "stdout",
          "output_type": "stream",
          "text": [
            "(26048, 13) (26048,)\n",
            "(6513, 13) (6513,)\n"
          ]
        }
      ],
      "source": [
        "# splitting the data into train and test\n",
        "\n",
        "X_train, X_test, y_train, y_test = train_test_split(X, y, test_size=0.2, random_state=42)\n",
        "print(X_train.shape, y_train.shape)\n",
        "print(X_test.shape, y_test.shape)"
      ]
    },
    {
      "cell_type": "code",
      "execution_count": null,
      "metadata": {
        "id": "xRumZczU-UPn"
      },
      "outputs": [],
      "source": [
        "# changing all values of native-country to USA and Non-USA\n",
        "\n",
        "X_train['native-country'] = X_train['native-country'].apply(lambda x: 'USA' if x == 'United-States' else 'Non-USA')\n",
        "X_test['native-country'] = X_test['native-country'].apply(lambda x: 'USA' if x == 'United-States' else 'Non-USA')"
      ]
    },
    {
      "cell_type": "code",
      "execution_count": null,
      "metadata": {
        "colab": {
          "base_uri": "https://localhost:8080/"
        },
        "id": "r2z7iOiQ-UPo",
        "outputId": "7a6e2e35-90e0-4dd4-9d77-e547fadd2e46"
      },
      "outputs": [
        {
          "name": "stdout",
          "output_type": "stream",
          "text": [
            "(26048, 57) (6513, 57)\n"
          ]
        }
      ],
      "source": [
        "# dummy encoding the categorical columns\n",
        "\n",
        "X_train = pd.get_dummies(X_train, drop_first=True)\n",
        "X_test = pd.get_dummies(X_test, drop_first=True)\n",
        "\n",
        "missing_cols = set(X_train.columns) - set(X_test.columns)\n",
        "for col in missing_cols:\n",
        "    X_test[col] = 0\n",
        "\n",
        "X_test = X_test[X_train.columns]\n",
        "\n",
        "print(X_train.shape, X_test.shape)"
      ]
    },
    {
      "cell_type": "code",
      "execution_count": null,
      "metadata": {
        "id": "oH-Kroz8-UPp"
      },
      "outputs": [],
      "source": [
        "# scaling the data\n",
        "\n",
        "scaler = MinMaxScaler()\n",
        "X_train = scaler.fit_transform(X_train)\n",
        "X_test = scaler.transform(X_test)"
      ]
    },
    {
      "cell_type": "markdown",
      "metadata": {
        "id": "GLKYjwPyC71c"
      },
      "source": [
        "### Grid Search Cross Validation "
      ]
    },
    {
      "cell_type": "code",
      "execution_count": null,
      "metadata": {
        "colab": {
          "base_uri": "https://localhost:8080/"
        },
        "id": "U7YodFG5-UPs",
        "outputId": "a30bedb1-3c57-4e0e-e2b3-51ab6e2622ef"
      },
      "outputs": [
        {
          "name": "stdout",
          "output_type": "stream",
          "text": [
            "Fitting 5 folds for each of 14 candidates, totalling 70 fits\n",
            "LogisticRegression(C=1000)\n",
            "0.8497774669487219\n"
          ]
        }
      ],
      "source": [
        "# grid search for the optimal Logisting Regression model\n",
        "\n",
        "params = {'C': [0.001, 0.01, 0.1, 1, 10, 100, 1000], 'penalty': ['l1', 'l2']}\n",
        "\n",
        "grid = GridSearchCV(estimator=LogisticRegression(), param_grid=params, verbose=True, cv=5, n_jobs=-1, scoring='accuracy')\n",
        "grid.fit(X_train, y_train)\n",
        "print(grid.best_estimator_)\n",
        "print(grid.best_score_)"
      ]
    },
    {
      "cell_type": "code",
      "execution_count": null,
      "metadata": {
        "colab": {
          "base_uri": "https://localhost:8080/"
        },
        "id": "ytOi8ZWb-UPt",
        "outputId": "6717a55f-e9aa-4888-e4f0-ae11b20e4f93"
      },
      "outputs": [
        {
          "name": "stdout",
          "output_type": "stream",
          "text": [
            "Fitting 5 folds for each of 7 candidates, totalling 35 fits\n",
            "KNeighborsClassifier(n_neighbors=25)\n",
            "0.8330389857507068\n"
          ]
        }
      ],
      "source": [
        "# grid search for the optimal KNeighbors Classifier\n",
        "\n",
        "params = {'n_neighbors': [3, 5, 7, 9, 15, 21, 25]}\n",
        "\n",
        "grid = GridSearchCV(estimator=KNeighborsClassifier(), param_grid=params, verbose=True, cv=5, n_jobs=-1)\n",
        "grid.fit(X_train, y_train)\n",
        "print(grid.best_estimator_)\n",
        "print(grid.best_score_)"
      ]
    },
    {
      "cell_type": "code",
      "execution_count": null,
      "metadata": {
        "colab": {
          "base_uri": "https://localhost:8080/"
        },
        "id": "54G13RCT-UPt",
        "outputId": "3668836d-6a0f-4360-c5bc-6fe3c85f8c66"
      },
      "outputs": [
        {
          "name": "stdout",
          "output_type": "stream",
          "text": [
            "Fitting 5 folds for each of 9 candidates, totalling 45 fits\n",
            "SVC(C=10, gamma=0.1)\n",
            "0.8478194281343121\n"
          ]
        }
      ],
      "source": [
        "# grid search for the optimal SVC\n",
        "\n",
        "params = {'C': [0.1, 1, 10],\n",
        "          'gamma': [1, 0.1, 0.01]}\n",
        "\n",
        "grid = GridSearchCV(estimator=SVC(), param_grid=params, verbose=True, cv=5, n_jobs=-1)\n",
        "grid.fit(X_train, y_train)\n",
        "print(grid.best_estimator_)\n",
        "print(grid.best_score_)"
      ]
    },
    {
      "cell_type": "code",
      "execution_count": null,
      "metadata": {
        "colab": {
          "base_uri": "https://localhost:8080/"
        },
        "id": "X4sOzlJZ-UPu",
        "outputId": "016931b2-98c4-4b91-ca9d-05ada6cfe99b"
      },
      "outputs": [
        {
          "name": "stdout",
          "output_type": "stream",
          "text": [
            "Fitting 5 folds for each of 3 candidates, totalling 15 fits\n",
            "GaussianNB(var_smoothing=0.1)\n",
            "0.7620931364547335\n"
          ]
        }
      ],
      "source": [
        "# grid search for the optimal Gaussian Naive Bayes\n",
        "\n",
        "params = {'var_smoothing': [1e-3, 1e-2, 1e-1]}\n",
        "\n",
        "grid = GridSearchCV(estimator=GaussianNB(), param_grid=params, verbose=True, cv=5, n_jobs=-1)\n",
        "grid.fit(X_train, y_train)\n",
        "print(grid.best_estimator_)\n",
        "print(grid.best_score_)"
      ]
    },
    {
      "cell_type": "code",
      "execution_count": null,
      "metadata": {
        "colab": {
          "base_uri": "https://localhost:8080/"
        },
        "id": "fYBzzYhz-UPu",
        "outputId": "ac51c618-9609-410e-e3a5-a33a7d785c03"
      },
      "outputs": [
        {
          "name": "stdout",
          "output_type": "stream",
          "text": [
            "Fitting 5 folds for each of 50 candidates, totalling 250 fits\n",
            "DecisionTreeClassifier(max_depth=9, min_samples_leaf=5)\n",
            "0.8565343166209083\n"
          ]
        }
      ],
      "source": [
        "# grid search for the optimal Decision Tree Classifier\n",
        "\n",
        "params = {\"splitter\":[\"best\", \"random\"],\n",
        "          \"max_depth\" : [1, 3, 5, 7, 9],\n",
        "          \"min_samples_leaf\":[1, 2, 3, 5, 7]}\n",
        "\n",
        "grid = GridSearchCV(estimator=DecisionTreeClassifier(), param_grid=params, verbose=True, cv=5, n_jobs=-1)\n",
        "grid.fit(X_train, y_train)\n",
        "print(grid.best_estimator_)\n",
        "print(grid.best_score_)"
      ]
    },
    {
      "cell_type": "code",
      "execution_count": null,
      "metadata": {
        "colab": {
          "base_uri": "https://localhost:8080/"
        },
        "id": "spdNly43-UP2",
        "outputId": "371f21de-d12d-45b7-a370-d9466e68e8d7"
      },
      "outputs": [
        {
          "name": "stdout",
          "output_type": "stream",
          "text": [
            "Fitting 5 folds for each of 12 candidates, totalling 60 fits\n",
            "RandomForestClassifier(max_depth=20, n_estimators=1000)\n",
            "0.8596824409546595\n"
          ]
        }
      ],
      "source": [
        "# grid search for the optimal Random Forest Classifier\n",
        "\n",
        "params = {'max_depth': [5, 10, 20, None],\n",
        "          'n_estimators': [100, 500, 1000]}\n",
        "\n",
        "grid = GridSearchCV(estimator=RandomForestClassifier(), param_grid=params, verbose=1, cv=5, n_jobs=-1)\n",
        "grid.fit(X_train, y_train)\n",
        "print(grid.best_estimator_)\n",
        "print(grid.best_score_)"
      ]
    },
    {
      "cell_type": "code",
      "execution_count": null,
      "metadata": {
        "colab": {
          "base_uri": "https://localhost:8080/"
        },
        "id": "izP-myRW-UP3",
        "outputId": "a130f109-f307-4487-f9f9-0a22b1c472cc"
      },
      "outputs": [
        {
          "name": "stdout",
          "output_type": "stream",
          "text": [
            "Fitting 5 folds for each of 12 candidates, totalling 60 fits\n",
            "GradientBoostingClassifier(max_depth=5)\n",
            "0.8691263938945182\n"
          ]
        }
      ],
      "source": [
        "# grid search for the optimal Gradient Boosting Classfier\n",
        "\n",
        "params = {'max_depth': [5, 10, 20, None],\n",
        "          'n_estimators': [100, 500, 1000]}\n",
        "\n",
        "grid = GridSearchCV(estimator=GradientBoostingClassifier(), param_grid=params, verbose=1, cv=5, n_jobs=-1)\n",
        "grid.fit(X_train, y_train)\n",
        "print(grid.best_estimator_)\n",
        "print(grid.best_score_)"
      ]
    },
    {
      "cell_type": "code",
      "execution_count": null,
      "metadata": {
        "colab": {
          "base_uri": "https://localhost:8080/"
        },
        "id": "uu2LaIRn-UP4",
        "outputId": "21eeb3c8-17a7-4453-f195-1267fe68b52f"
      },
      "outputs": [
        {
          "name": "stdout",
          "output_type": "stream",
          "text": [
            "Fitting 5 folds for each of 6 candidates, totalling 30 fits\n",
            "XGBClassifier(base_score=None, booster=None, callbacks=None,\n",
            "              colsample_bylevel=None, colsample_bynode=None,\n",
            "              colsample_bytree=None, early_stopping_rounds=None,\n",
            "              enable_categorical=False, eval_metric=None, feature_types=None,\n",
            "              gamma=None, gpu_id=None, grow_policy=None, importance_type=None,\n",
            "              interaction_constraints=None, learning_rate=None, max_bin=None,\n",
            "              max_cat_threshold=None, max_cat_to_onehot=None,\n",
            "              max_delta_step=None, max_depth=5, max_leaves=None,\n",
            "              min_child_weight=None, missing=nan, monotone_constraints=None,\n",
            "              n_estimators=100, n_jobs=None, num_parallel_tree=None,\n",
            "              predictor=None, random_state=None, ...)\n",
            "0.8700478612058195\n"
          ]
        }
      ],
      "source": [
        "# grid search for the optimal XGBoost Classifier\n",
        "\n",
        "y_train_xgb = y_train.map({'<=50K': 0, '>50K': 1})\n",
        "y_test_xgb = y_test.map({'<=50K': 0, '>50K': 1})\n",
        "\n",
        "params = {'max_depth': [5, 10, None],\n",
        "            'n_estimators': [100, 500]}\n",
        "\n",
        "grid = GridSearchCV(estimator=xgb.XGBClassifier(), param_grid=params, verbose=1, cv=5, n_jobs=-1)\n",
        "grid.fit(X_train, y_train_xgb)\n",
        "print(grid.best_estimator_)\n",
        "print(grid.best_score_)"
      ]
    },
    {
      "cell_type": "code",
      "execution_count": null,
      "metadata": {
        "colab": {
          "base_uri": "https://localhost:8080/"
        },
        "id": "6C9uBnTx-UP5",
        "outputId": "e9ed3a30-0898-4388-c697-6c987a489377"
      },
      "outputs": [
        {
          "name": "stdout",
          "output_type": "stream",
          "text": [
            "Fitting 5 folds for each of 15 candidates, totalling 75 fits\n",
            "Perceptron(alpha=0.01, penalty='elasticnet')\n",
            "0.7865087923640208\n"
          ]
        }
      ],
      "source": [
        "# grid search for the optimal Perceptron Classifier\n",
        "\n",
        "params = {'penalty': ['l1', 'l2', 'elasticnet'],\n",
        "            'alpha': [0.001, 0.01, 0.1, 1, 10]}\n",
        "\n",
        "grid = GridSearchCV(estimator=Perceptron(), param_grid=params, verbose=1, cv=5, n_jobs=-1)\n",
        "grid.fit(X_train, y_train)\n",
        "print(grid.best_estimator_)\n",
        "print(grid.best_score_)"
      ]
    },
    {
      "cell_type": "code",
      "execution_count": null,
      "metadata": {
        "colab": {
          "base_uri": "https://localhost:8080/"
        },
        "id": "5a52LLFX-UP6",
        "outputId": "81ddac87-91f7-4208-9353-bb49232fdae5"
      },
      "outputs": [
        {
          "name": "stdout",
          "output_type": "stream",
          "text": [
            "Fitting 5 folds for each of 30 candidates, totalling 150 fits\n",
            "MLPClassifier(alpha=0.1, hidden_layer_sizes=(16, 16), learning_rate='adaptive')\n",
            "0.8527719446152735\n"
          ]
        }
      ],
      "source": [
        "# grid search for the optimal MLP Classifier\n",
        "\n",
        "params = {'hidden_layer_sizes': [(32, 32), (32, 16), (32,), (16, 16), (16,)],\n",
        "            'activation': ['relu'], \n",
        "            'solver': ['adam'],\n",
        "            'alpha': [0.001, 0.01, 0.1],\n",
        "            'learning_rate': ['constant', 'adaptive']}\n",
        "\n",
        "grid = GridSearchCV(estimator=MLPClassifier(), param_grid=params, verbose=1, cv=5, n_jobs=-1)\n",
        "grid.fit(X_train, y_train)\n",
        "print(grid.best_estimator_)\n",
        "print(grid.best_score_)"
      ]
    },
    {
      "cell_type": "code",
      "execution_count": null,
      "metadata": {
        "colab": {
          "base_uri": "https://localhost:8080/"
        },
        "id": "NtuguTrR-UP7",
        "outputId": "d6f4db73-3ca9-4d94-dd89-bf303dc10170"
      },
      "outputs": [
        {
          "name": "stdout",
          "output_type": "stream",
          "text": [
            "Fitting 5 folds for each of 45 candidates, totalling 225 fits\n",
            "SGDClassifier(alpha=0.001, loss='modified_huber', penalty='l1')\n",
            "0.8436734958577894\n"
          ]
        }
      ],
      "source": [
        "# grid search for the optimal SGD Classifier\n",
        "\n",
        "params = {'loss': ['hinge', 'log', 'modified_huber', 'squared_hinge', 'perceptron'],\n",
        "          'penalty': ['l1', 'l2', 'elasticnet'],\n",
        "          'alpha': [0.001, 0.01, 0.1]}\n",
        "\n",
        "grid = GridSearchCV(estimator=SGDClassifier(), param_grid=params, verbose=1, cv=5, n_jobs=-1)\n",
        "grid.fit(X_train, y_train)\n",
        "print(grid.best_estimator_)\n",
        "print(grid.best_score_)"
      ]
    },
    {
      "cell_type": "code",
      "execution_count": null,
      "metadata": {
        "id": "ayQBYuVJc-UX",
        "outputId": "9b10b6c5-bffc-48ec-e0f4-a245c1fce1a6"
      },
      "outputs": [
        {
          "name": "stdout",
          "output_type": "stream",
          "text": [
            "Fitting 5 folds for each of 18 candidates, totalling 90 fits\n",
            "LGBMClassifier(max_depth=20)\n",
            "0.8710460081455063\n"
          ]
        }
      ],
      "source": [
        "# grid search for the optimal lightgbm Classifier\n",
        "\n",
        "params = {'num_leaves': [31, 63, 127],\n",
        "            'max_depth': [5, 10, 20],\n",
        "            'n_estimators': [100, 500]}\n",
        "\n",
        "grid = GridSearchCV(estimator=lgb.LGBMClassifier(), param_grid=params, verbose=1, cv=5, n_jobs=-1)\n",
        "grid.fit(X_train, y_train)\n",
        "print(grid.best_estimator_)\n",
        "print(grid.best_score_)"
      ]
    },
    {
      "cell_type": "markdown",
      "metadata": {
        "id": "vjSAJELN4sc1"
      },
      "source": [
        "### Lazy Predictor\n",
        "\n",
        "This will be a quick analysis of different models on the dataset. I will be using the LazyPredict library to get a quick overview of the performance of different models. From here we might be able to get a good idea of which models to use for further analysis."
      ]
    },
    {
      "cell_type": "code",
      "execution_count": null,
      "metadata": {
        "colab": {
          "base_uri": "https://localhost:8080/"
        },
        "id": "Mye7TDJW4sDE",
        "outputId": "b47ca0d4-2960-4845-d768-3626edefa8e4"
      },
      "outputs": [
        {
          "name": "stdout",
          "output_type": "stream",
          "text": [
            "Looking in indexes: https://pypi.org/simple, https://us-python.pkg.dev/colab-wheels/public/simple/\n",
            "Requirement already satisfied: lazypredict in /usr/local/lib/python3.9/dist-packages (0.2.12)\n",
            "Requirement already satisfied: xgboost in /usr/local/lib/python3.9/dist-packages (from lazypredict) (1.7.5)\n",
            "Requirement already satisfied: scikit-learn in /usr/local/lib/python3.9/dist-packages (from lazypredict) (1.2.2)\n",
            "Requirement already satisfied: joblib in /usr/local/lib/python3.9/dist-packages (from lazypredict) (1.1.1)\n",
            "Requirement already satisfied: click in /usr/local/lib/python3.9/dist-packages (from lazypredict) (8.1.3)\n",
            "Requirement already satisfied: tqdm in /usr/local/lib/python3.9/dist-packages (from lazypredict) (4.65.0)\n",
            "Requirement already satisfied: pandas in /usr/local/lib/python3.9/dist-packages (from lazypredict) (1.4.4)\n",
            "Requirement already satisfied: lightgbm in /usr/local/lib/python3.9/dist-packages (from lazypredict) (3.3.5)\n",
            "Requirement already satisfied: numpy in /usr/local/lib/python3.9/dist-packages (from lightgbm->lazypredict) (1.22.4)\n",
            "Requirement already satisfied: scipy in /usr/local/lib/python3.9/dist-packages (from lightgbm->lazypredict) (1.10.1)\n",
            "Requirement already satisfied: wheel in /usr/local/lib/python3.9/dist-packages (from lightgbm->lazypredict) (0.40.0)\n",
            "Requirement already satisfied: threadpoolctl>=2.0.0 in /usr/local/lib/python3.9/dist-packages (from scikit-learn->lazypredict) (3.1.0)\n",
            "Requirement already satisfied: pytz>=2020.1 in /usr/local/lib/python3.9/dist-packages (from pandas->lazypredict) (2022.7.1)\n",
            "Requirement already satisfied: python-dateutil>=2.8.1 in /usr/local/lib/python3.9/dist-packages (from pandas->lazypredict) (2.8.2)\n",
            "Requirement already satisfied: six>=1.5 in /usr/local/lib/python3.9/dist-packages (from python-dateutil>=2.8.1->pandas->lazypredict) (1.16.0)\n"
          ]
        }
      ],
      "source": [
        "# install lazy predict\n",
        "\n",
        "! pip install lazypredict"
      ]
    },
    {
      "cell_type": "code",
      "execution_count": null,
      "metadata": {
        "colab": {
          "base_uri": "https://localhost:8080/"
        },
        "id": "05ArFM1GM-82",
        "outputId": "608eb15f-270e-4b54-cec9-59879696a425"
      },
      "outputs": [
        {
          "name": "stderr",
          "output_type": "stream",
          "text": [
            "100%|██████████| 29/29 [03:35<00:00,  7.44s/it]\n"
          ]
        },
        {
          "data": {
            "text/html": [
              "<div>\n",
              "<style scoped>\n",
              "    .dataframe tbody tr th:only-of-type {\n",
              "        vertical-align: middle;\n",
              "    }\n",
              "\n",
              "    .dataframe tbody tr th {\n",
              "        vertical-align: top;\n",
              "    }\n",
              "\n",
              "    .dataframe thead th {\n",
              "        text-align: right;\n",
              "    }\n",
              "</style>\n",
              "<table border=\"1\" class=\"dataframe\">\n",
              "  <thead>\n",
              "    <tr style=\"text-align: right;\">\n",
              "      <th></th>\n",
              "      <th>Accuracy</th>\n",
              "      <th>Balanced Accuracy</th>\n",
              "      <th>ROC AUC</th>\n",
              "      <th>F1 Score</th>\n",
              "      <th>Time Taken</th>\n",
              "    </tr>\n",
              "    <tr>\n",
              "      <th>Model</th>\n",
              "      <th></th>\n",
              "      <th></th>\n",
              "      <th></th>\n",
              "      <th></th>\n",
              "      <th></th>\n",
              "    </tr>\n",
              "  </thead>\n",
              "  <tbody>\n",
              "    <tr>\n",
              "      <th>LGBMClassifier</th>\n",
              "      <td>0.88</td>\n",
              "      <td>0.81</td>\n",
              "      <td>None</td>\n",
              "      <td>0.88</td>\n",
              "      <td>0.73</td>\n",
              "    </tr>\n",
              "    <tr>\n",
              "      <th>NearestCentroid</th>\n",
              "      <td>0.79</td>\n",
              "      <td>0.81</td>\n",
              "      <td>None</td>\n",
              "      <td>0.80</td>\n",
              "      <td>0.23</td>\n",
              "    </tr>\n",
              "    <tr>\n",
              "      <th>BernoulliNB</th>\n",
              "      <td>0.82</td>\n",
              "      <td>0.79</td>\n",
              "      <td>None</td>\n",
              "      <td>0.82</td>\n",
              "      <td>0.35</td>\n",
              "    </tr>\n",
              "    <tr>\n",
              "      <th>AdaBoostClassifier</th>\n",
              "      <td>0.86</td>\n",
              "      <td>0.78</td>\n",
              "      <td>None</td>\n",
              "      <td>0.86</td>\n",
              "      <td>3.03</td>\n",
              "    </tr>\n",
              "    <tr>\n",
              "      <th>RandomForestClassifier</th>\n",
              "      <td>0.85</td>\n",
              "      <td>0.77</td>\n",
              "      <td>None</td>\n",
              "      <td>0.85</td>\n",
              "      <td>3.78</td>\n",
              "    </tr>\n",
              "    <tr>\n",
              "      <th>LogisticRegression</th>\n",
              "      <td>0.86</td>\n",
              "      <td>0.77</td>\n",
              "      <td>None</td>\n",
              "      <td>0.85</td>\n",
              "      <td>0.99</td>\n",
              "    </tr>\n",
              "    <tr>\n",
              "      <th>CalibratedClassifierCV</th>\n",
              "      <td>0.85</td>\n",
              "      <td>0.77</td>\n",
              "      <td>None</td>\n",
              "      <td>0.85</td>\n",
              "      <td>26.71</td>\n",
              "    </tr>\n",
              "    <tr>\n",
              "      <th>LinearSVC</th>\n",
              "      <td>0.85</td>\n",
              "      <td>0.76</td>\n",
              "      <td>None</td>\n",
              "      <td>0.85</td>\n",
              "      <td>9.48</td>\n",
              "    </tr>\n",
              "    <tr>\n",
              "      <th>BaggingClassifier</th>\n",
              "      <td>0.84</td>\n",
              "      <td>0.76</td>\n",
              "      <td>None</td>\n",
              "      <td>0.83</td>\n",
              "      <td>1.50</td>\n",
              "    </tr>\n",
              "    <tr>\n",
              "      <th>SVC</th>\n",
              "      <td>0.85</td>\n",
              "      <td>0.76</td>\n",
              "      <td>None</td>\n",
              "      <td>0.85</td>\n",
              "      <td>43.73</td>\n",
              "    </tr>\n",
              "    <tr>\n",
              "      <th>DecisionTreeClassifier</th>\n",
              "      <td>0.82</td>\n",
              "      <td>0.75</td>\n",
              "      <td>None</td>\n",
              "      <td>0.82</td>\n",
              "      <td>0.37</td>\n",
              "    </tr>\n",
              "    <tr>\n",
              "      <th>ExtraTreesClassifier</th>\n",
              "      <td>0.83</td>\n",
              "      <td>0.75</td>\n",
              "      <td>None</td>\n",
              "      <td>0.83</td>\n",
              "      <td>4.74</td>\n",
              "    </tr>\n",
              "    <tr>\n",
              "      <th>SGDClassifier</th>\n",
              "      <td>0.85</td>\n",
              "      <td>0.75</td>\n",
              "      <td>None</td>\n",
              "      <td>0.84</td>\n",
              "      <td>0.60</td>\n",
              "    </tr>\n",
              "    <tr>\n",
              "      <th>LinearDiscriminantAnalysis</th>\n",
              "      <td>0.84</td>\n",
              "      <td>0.75</td>\n",
              "      <td>None</td>\n",
              "      <td>0.83</td>\n",
              "      <td>4.76</td>\n",
              "    </tr>\n",
              "    <tr>\n",
              "      <th>KNeighborsClassifier</th>\n",
              "      <td>0.83</td>\n",
              "      <td>0.75</td>\n",
              "      <td>None</td>\n",
              "      <td>0.83</td>\n",
              "      <td>1.46</td>\n",
              "    </tr>\n",
              "    <tr>\n",
              "      <th>Perceptron</th>\n",
              "      <td>0.82</td>\n",
              "      <td>0.74</td>\n",
              "      <td>None</td>\n",
              "      <td>0.81</td>\n",
              "      <td>0.27</td>\n",
              "    </tr>\n",
              "    <tr>\n",
              "      <th>LabelPropagation</th>\n",
              "      <td>0.81</td>\n",
              "      <td>0.73</td>\n",
              "      <td>None</td>\n",
              "      <td>0.81</td>\n",
              "      <td>58.02</td>\n",
              "    </tr>\n",
              "    <tr>\n",
              "      <th>ExtraTreeClassifier</th>\n",
              "      <td>0.81</td>\n",
              "      <td>0.73</td>\n",
              "      <td>None</td>\n",
              "      <td>0.81</td>\n",
              "      <td>0.25</td>\n",
              "    </tr>\n",
              "    <tr>\n",
              "      <th>RidgeClassifier</th>\n",
              "      <td>0.84</td>\n",
              "      <td>0.72</td>\n",
              "      <td>None</td>\n",
              "      <td>0.83</td>\n",
              "      <td>0.54</td>\n",
              "    </tr>\n",
              "    <tr>\n",
              "      <th>RidgeClassifierCV</th>\n",
              "      <td>0.84</td>\n",
              "      <td>0.72</td>\n",
              "      <td>None</td>\n",
              "      <td>0.83</td>\n",
              "      <td>0.39</td>\n",
              "    </tr>\n",
              "    <tr>\n",
              "      <th>GaussianNB</th>\n",
              "      <td>0.53</td>\n",
              "      <td>0.68</td>\n",
              "      <td>None</td>\n",
              "      <td>0.54</td>\n",
              "      <td>0.24</td>\n",
              "    </tr>\n",
              "    <tr>\n",
              "      <th>PassiveAggressiveClassifier</th>\n",
              "      <td>0.80</td>\n",
              "      <td>0.65</td>\n",
              "      <td>None</td>\n",
              "      <td>0.78</td>\n",
              "      <td>0.36</td>\n",
              "    </tr>\n",
              "    <tr>\n",
              "      <th>QuadraticDiscriminantAnalysis</th>\n",
              "      <td>0.41</td>\n",
              "      <td>0.60</td>\n",
              "      <td>None</td>\n",
              "      <td>0.39</td>\n",
              "      <td>0.38</td>\n",
              "    </tr>\n",
              "    <tr>\n",
              "      <th>DummyClassifier</th>\n",
              "      <td>0.76</td>\n",
              "      <td>0.50</td>\n",
              "      <td>None</td>\n",
              "      <td>0.65</td>\n",
              "      <td>0.17</td>\n",
              "    </tr>\n",
              "  </tbody>\n",
              "</table>\n",
              "</div>"
            ],
            "text/plain": [
              "                               Accuracy  Balanced Accuracy ROC AUC  F1 Score  \\\n",
              "Model                                                                          \n",
              "LGBMClassifier                     0.88               0.81    None      0.88   \n",
              "NearestCentroid                    0.79               0.81    None      0.80   \n",
              "BernoulliNB                        0.82               0.79    None      0.82   \n",
              "AdaBoostClassifier                 0.86               0.78    None      0.86   \n",
              "RandomForestClassifier             0.85               0.77    None      0.85   \n",
              "LogisticRegression                 0.86               0.77    None      0.85   \n",
              "CalibratedClassifierCV             0.85               0.77    None      0.85   \n",
              "LinearSVC                          0.85               0.76    None      0.85   \n",
              "BaggingClassifier                  0.84               0.76    None      0.83   \n",
              "SVC                                0.85               0.76    None      0.85   \n",
              "DecisionTreeClassifier             0.82               0.75    None      0.82   \n",
              "ExtraTreesClassifier               0.83               0.75    None      0.83   \n",
              "SGDClassifier                      0.85               0.75    None      0.84   \n",
              "LinearDiscriminantAnalysis         0.84               0.75    None      0.83   \n",
              "KNeighborsClassifier               0.83               0.75    None      0.83   \n",
              "Perceptron                         0.82               0.74    None      0.81   \n",
              "LabelPropagation                   0.81               0.73    None      0.81   \n",
              "ExtraTreeClassifier                0.81               0.73    None      0.81   \n",
              "RidgeClassifier                    0.84               0.72    None      0.83   \n",
              "RidgeClassifierCV                  0.84               0.72    None      0.83   \n",
              "GaussianNB                         0.53               0.68    None      0.54   \n",
              "PassiveAggressiveClassifier        0.80               0.65    None      0.78   \n",
              "QuadraticDiscriminantAnalysis      0.41               0.60    None      0.39   \n",
              "DummyClassifier                    0.76               0.50    None      0.65   \n",
              "\n",
              "                               Time Taken  \n",
              "Model                                      \n",
              "LGBMClassifier                       0.73  \n",
              "NearestCentroid                      0.23  \n",
              "BernoulliNB                          0.35  \n",
              "AdaBoostClassifier                   3.03  \n",
              "RandomForestClassifier               3.78  \n",
              "LogisticRegression                   0.99  \n",
              "CalibratedClassifierCV              26.71  \n",
              "LinearSVC                            9.48  \n",
              "BaggingClassifier                    1.50  \n",
              "SVC                                 43.73  \n",
              "DecisionTreeClassifier               0.37  \n",
              "ExtraTreesClassifier                 4.74  \n",
              "SGDClassifier                        0.60  \n",
              "LinearDiscriminantAnalysis           4.76  \n",
              "KNeighborsClassifier                 1.46  \n",
              "Perceptron                           0.27  \n",
              "LabelPropagation                    58.02  \n",
              "ExtraTreeClassifier                  0.25  \n",
              "RidgeClassifier                      0.54  \n",
              "RidgeClassifierCV                    0.39  \n",
              "GaussianNB                           0.24  \n",
              "PassiveAggressiveClassifier          0.36  \n",
              "QuadraticDiscriminantAnalysis        0.38  \n",
              "DummyClassifier                      0.17  "
            ]
          },
          "execution_count": 15,
          "metadata": {},
          "output_type": "execute_result"
        }
      ],
      "source": [
        "# lazy prediction\n",
        "\n",
        "from lazypredict.Supervised import LazyClassifier\n",
        "\n",
        "clf = LazyClassifier(verbose=0, ignore_warnings=True, custom_metric=None)\n",
        "models, predictions = clf.fit(X_train, X_test, y_train, y_test)\n",
        "models"
      ]
    },
    {
      "cell_type": "markdown",
      "metadata": {
        "id": "ZQIPbLf8c-UY"
      },
      "source": [
        "### Models' Comparison"
      ]
    },
    {
      "cell_type": "code",
      "execution_count": null,
      "metadata": {
        "id": "iJVLag2hDE6B",
        "outputId": "0fb8d2ae-9677-40eb-f6e4-ace545573809"
      },
      "outputs": [
        {
          "data": {
            "text/html": [
              "<div>\n",
              "<style scoped>\n",
              "    .dataframe tbody tr th:only-of-type {\n",
              "        vertical-align: middle;\n",
              "    }\n",
              "\n",
              "    .dataframe tbody tr th {\n",
              "        vertical-align: top;\n",
              "    }\n",
              "\n",
              "    .dataframe thead th {\n",
              "        text-align: right;\n",
              "    }\n",
              "</style>\n",
              "<table border=\"1\" class=\"dataframe\">\n",
              "  <thead>\n",
              "    <tr style=\"text-align: right;\">\n",
              "      <th></th>\n",
              "      <th>Model</th>\n",
              "      <th>Accuracy</th>\n",
              "      <th>Recall</th>\n",
              "      <th>Precision</th>\n",
              "    </tr>\n",
              "  </thead>\n",
              "  <tbody>\n",
              "  </tbody>\n",
              "</table>\n",
              "</div>"
            ],
            "text/plain": [
              "Empty DataFrame\n",
              "Columns: [Model, Accuracy, Recall, Precision]\n",
              "Index: []"
            ]
          },
          "execution_count": 43,
          "metadata": {},
          "output_type": "execute_result"
        }
      ],
      "source": [
        "comparison_df = pd.DataFrame(columns=['Model', 'Accuracy', 'Recall', 'Precision'])\n",
        "comparison_df"
      ]
    },
    {
      "cell_type": "code",
      "execution_count": null,
      "metadata": {
        "id": "0EqMi8jac-UY",
        "outputId": "777f3709-82c3-4697-d6e0-b54e56340e5f"
      },
      "outputs": [
        {
          "data": {
            "text/html": [
              "<div>\n",
              "<style scoped>\n",
              "    .dataframe tbody tr th:only-of-type {\n",
              "        vertical-align: middle;\n",
              "    }\n",
              "\n",
              "    .dataframe tbody tr th {\n",
              "        vertical-align: top;\n",
              "    }\n",
              "\n",
              "    .dataframe thead th {\n",
              "        text-align: right;\n",
              "    }\n",
              "</style>\n",
              "<table border=\"1\" class=\"dataframe\">\n",
              "  <thead>\n",
              "    <tr style=\"text-align: right;\">\n",
              "      <th></th>\n",
              "      <th>Model</th>\n",
              "      <th>Accuracy</th>\n",
              "      <th>Recall</th>\n",
              "      <th>Precision</th>\n",
              "    </tr>\n",
              "  </thead>\n",
              "  <tbody>\n",
              "    <tr>\n",
              "      <th>0</th>\n",
              "      <td>Logistic Regression</td>\n",
              "      <td>85.58</td>\n",
              "      <td>77.17</td>\n",
              "      <td>81.46</td>\n",
              "    </tr>\n",
              "  </tbody>\n",
              "</table>\n",
              "</div>"
            ],
            "text/plain": [
              "                 Model  Accuracy  Recall  Precision\n",
              "0  Logistic Regression     85.58   77.17      81.46"
            ]
          },
          "execution_count": 44,
          "metadata": {},
          "output_type": "execute_result"
        }
      ],
      "source": [
        "# logistic regression\n",
        "\n",
        "logreg = LogisticRegression(C=1000)\n",
        "logreg.fit(X_train, y_train)\n",
        "y_pred = logreg.predict(X_test)\n",
        "acc_log = round(accuracy_score(y_test, y_pred) * 100, 2)\n",
        "rec_log = round(recall_score(y_test, y_pred, average='macro') * 100, 2)\n",
        "pre_log = round(precision_score(y_test, y_pred, average='macro') * 100, 2)\n",
        "\n",
        "comparison_df = comparison_df.append({'Model': 'Logistic Regression', 'Accuracy': acc_log,\n",
        "                                      'Recall': rec_log, 'Precision': pre_log}, ignore_index=True)\n",
        "                                      \n",
        "comparison_df[comparison_df['Model'] == 'Logistic Regression']"
      ]
    },
    {
      "cell_type": "code",
      "execution_count": null,
      "metadata": {
        "id": "fxcaycMRc-UZ",
        "outputId": "2150d073-c094-4d34-f108-63d438361168"
      },
      "outputs": [
        {
          "data": {
            "text/html": [
              "<div>\n",
              "<style scoped>\n",
              "    .dataframe tbody tr th:only-of-type {\n",
              "        vertical-align: middle;\n",
              "    }\n",
              "\n",
              "    .dataframe tbody tr th {\n",
              "        vertical-align: top;\n",
              "    }\n",
              "\n",
              "    .dataframe thead th {\n",
              "        text-align: right;\n",
              "    }\n",
              "</style>\n",
              "<table border=\"1\" class=\"dataframe\">\n",
              "  <thead>\n",
              "    <tr style=\"text-align: right;\">\n",
              "      <th></th>\n",
              "      <th>Model</th>\n",
              "      <th>Accuracy</th>\n",
              "      <th>Recall</th>\n",
              "      <th>Precision</th>\n",
              "    </tr>\n",
              "  </thead>\n",
              "  <tbody>\n",
              "    <tr>\n",
              "      <th>1</th>\n",
              "      <td>KNN</td>\n",
              "      <td>83.46</td>\n",
              "      <td>74.67</td>\n",
              "      <td>77.97</td>\n",
              "    </tr>\n",
              "  </tbody>\n",
              "</table>\n",
              "</div>"
            ],
            "text/plain": [
              "  Model  Accuracy  Recall  Precision\n",
              "1   KNN     83.46   74.67      77.97"
            ]
          },
          "execution_count": 45,
          "metadata": {},
          "output_type": "execute_result"
        }
      ],
      "source": [
        "# KNN\n",
        "\n",
        "knn = KNeighborsClassifier(n_neighbors=25)\n",
        "knn.fit(X_train, y_train)\n",
        "y_pred = knn.predict(X_test)\n",
        "acc_knn = round(accuracy_score(y_test, y_pred) * 100, 2)\n",
        "rec_knn = round(recall_score(y_test, y_pred, average='macro') * 100, 2)\n",
        "pre_knn = round(precision_score(y_test, y_pred, average='macro') * 100, 2)\n",
        "\n",
        "comparison_df = comparison_df.append({'Model': 'KNN', 'Accuracy': acc_knn,\n",
        "                                        'Recall': rec_knn, 'Precision': pre_knn}, ignore_index=True)\n",
        "\n",
        "comparison_df[comparison_df['Model'] == 'KNN']"
      ]
    },
    {
      "cell_type": "code",
      "execution_count": null,
      "metadata": {
        "id": "IOUUSIntc-UZ",
        "outputId": "97a80613-4ecf-4eb1-eba8-df85c8ce2e95"
      },
      "outputs": [
        {
          "data": {
            "text/html": [
              "<div>\n",
              "<style scoped>\n",
              "    .dataframe tbody tr th:only-of-type {\n",
              "        vertical-align: middle;\n",
              "    }\n",
              "\n",
              "    .dataframe tbody tr th {\n",
              "        vertical-align: top;\n",
              "    }\n",
              "\n",
              "    .dataframe thead th {\n",
              "        text-align: right;\n",
              "    }\n",
              "</style>\n",
              "<table border=\"1\" class=\"dataframe\">\n",
              "  <thead>\n",
              "    <tr style=\"text-align: right;\">\n",
              "      <th></th>\n",
              "      <th>Model</th>\n",
              "      <th>Accuracy</th>\n",
              "      <th>Recall</th>\n",
              "      <th>Precision</th>\n",
              "    </tr>\n",
              "  </thead>\n",
              "  <tbody>\n",
              "    <tr>\n",
              "      <th>2</th>\n",
              "      <td>SVC</td>\n",
              "      <td>85.55</td>\n",
              "      <td>76.67</td>\n",
              "      <td>81.67</td>\n",
              "    </tr>\n",
              "  </tbody>\n",
              "</table>\n",
              "</div>"
            ],
            "text/plain": [
              "  Model  Accuracy  Recall  Precision\n",
              "2   SVC     85.55   76.67      81.67"
            ]
          },
          "execution_count": 46,
          "metadata": {},
          "output_type": "execute_result"
        }
      ],
      "source": [
        "# SVC\n",
        "\n",
        "svc = SVC(C=10, gamma=0.1)\n",
        "svc.fit(X_train, y_train)\n",
        "y_pred = svc.predict(X_test)\n",
        "acc_svc = round(accuracy_score(y_test, y_pred) * 100, 2)\n",
        "rec_svc = round(recall_score(y_test, y_pred, average='macro') * 100, 2)\n",
        "pre_svc = round(precision_score(y_test, y_pred, average='macro') * 100, 2)\n",
        "\n",
        "comparison_df = comparison_df.append({'Model': 'SVC', 'Accuracy': acc_svc,\n",
        "                                        'Recall': rec_svc, 'Precision': pre_svc}, ignore_index=True)\n",
        "\n",
        "comparison_df[comparison_df['Model'] == 'SVC']"
      ]
    },
    {
      "cell_type": "code",
      "execution_count": null,
      "metadata": {
        "id": "Z5AP6eX6c-UZ",
        "outputId": "29714674-4fe0-47cf-ab73-3141d191352a"
      },
      "outputs": [
        {
          "data": {
            "text/html": [
              "<div>\n",
              "<style scoped>\n",
              "    .dataframe tbody tr th:only-of-type {\n",
              "        vertical-align: middle;\n",
              "    }\n",
              "\n",
              "    .dataframe tbody tr th {\n",
              "        vertical-align: top;\n",
              "    }\n",
              "\n",
              "    .dataframe thead th {\n",
              "        text-align: right;\n",
              "    }\n",
              "</style>\n",
              "<table border=\"1\" class=\"dataframe\">\n",
              "  <thead>\n",
              "    <tr style=\"text-align: right;\">\n",
              "      <th></th>\n",
              "      <th>Model</th>\n",
              "      <th>Accuracy</th>\n",
              "      <th>Recall</th>\n",
              "      <th>Precision</th>\n",
              "    </tr>\n",
              "  </thead>\n",
              "  <tbody>\n",
              "    <tr>\n",
              "      <th>3</th>\n",
              "      <td>Gaussian Naive Bayes</td>\n",
              "      <td>76.91</td>\n",
              "      <td>79.46</td>\n",
              "      <td>72.53</td>\n",
              "    </tr>\n",
              "  </tbody>\n",
              "</table>\n",
              "</div>"
            ],
            "text/plain": [
              "                  Model  Accuracy  Recall  Precision\n",
              "3  Gaussian Naive Bayes     76.91   79.46      72.53"
            ]
          },
          "execution_count": 47,
          "metadata": {},
          "output_type": "execute_result"
        }
      ],
      "source": [
        "## Gaussian Naive Bayes\n",
        "\n",
        "gaussian = GaussianNB(var_smoothing=0.1)\n",
        "gaussian.fit(X_train, y_train)\n",
        "y_pred = gaussian.predict(X_test)\n",
        "acc_gaussian = round(accuracy_score(y_test, y_pred) * 100, 2)\n",
        "rec_gaussian = round(recall_score(y_test, y_pred, average='macro') * 100, 2)\n",
        "pre_gaussian = round(precision_score(y_test, y_pred, average='macro') * 100, 2)\n",
        "\n",
        "comparison_df = comparison_df.append({'Model': 'Gaussian Naive Bayes', 'Accuracy': acc_gaussian,\n",
        "                                        'Recall': rec_gaussian, 'Precision': pre_gaussian}, ignore_index=True)\n",
        "\n",
        "comparison_df[comparison_df['Model'] == 'Gaussian Naive Bayes']"
      ]
    },
    {
      "cell_type": "code",
      "execution_count": null,
      "metadata": {
        "id": "p46ed9pmc-Ua",
        "outputId": "bcc0621e-57b8-40dd-94a9-05d6fe7af84d"
      },
      "outputs": [
        {
          "data": {
            "text/html": [
              "<div>\n",
              "<style scoped>\n",
              "    .dataframe tbody tr th:only-of-type {\n",
              "        vertical-align: middle;\n",
              "    }\n",
              "\n",
              "    .dataframe tbody tr th {\n",
              "        vertical-align: top;\n",
              "    }\n",
              "\n",
              "    .dataframe thead th {\n",
              "        text-align: right;\n",
              "    }\n",
              "</style>\n",
              "<table border=\"1\" class=\"dataframe\">\n",
              "  <thead>\n",
              "    <tr style=\"text-align: right;\">\n",
              "      <th></th>\n",
              "      <th>Model</th>\n",
              "      <th>Accuracy</th>\n",
              "      <th>Recall</th>\n",
              "      <th>Precision</th>\n",
              "    </tr>\n",
              "  </thead>\n",
              "  <tbody>\n",
              "    <tr>\n",
              "      <th>4</th>\n",
              "      <td>Decision Tree</td>\n",
              "      <td>85.72</td>\n",
              "      <td>76.11</td>\n",
              "      <td>82.49</td>\n",
              "    </tr>\n",
              "  </tbody>\n",
              "</table>\n",
              "</div>"
            ],
            "text/plain": [
              "           Model  Accuracy  Recall  Precision\n",
              "4  Decision Tree     85.72   76.11      82.49"
            ]
          },
          "execution_count": 48,
          "metadata": {},
          "output_type": "execute_result"
        }
      ],
      "source": [
        "# Decision Tree\n",
        "\n",
        "decision_tree = DecisionTreeClassifier(max_depth=9, min_samples_leaf=5)\n",
        "decision_tree.fit(X_train, y_train)\n",
        "y_pred = decision_tree.predict(X_test)\n",
        "acc_decision_tree = round(accuracy_score(y_test, y_pred) * 100, 2)\n",
        "rec_decision_tree = round(recall_score(y_test, y_pred, average='macro') * 100, 2)\n",
        "pre_decision_tree = round(precision_score(y_test, y_pred, average='macro') * 100, 2)\n",
        "\n",
        "comparison_df = comparison_df.append({'Model': 'Decision Tree', 'Accuracy': acc_decision_tree,\n",
        "                                        'Recall': rec_decision_tree, 'Precision': pre_decision_tree}, ignore_index=True)\n",
        "\n",
        "comparison_df[comparison_df['Model'] == 'Decision Tree']"
      ]
    },
    {
      "cell_type": "code",
      "execution_count": null,
      "metadata": {
        "id": "_vAqIu4Oc-Ua",
        "outputId": "5eddf81b-8d99-446e-d1c6-d525d77e1718"
      },
      "outputs": [
        {
          "data": {
            "text/html": [
              "<div>\n",
              "<style scoped>\n",
              "    .dataframe tbody tr th:only-of-type {\n",
              "        vertical-align: middle;\n",
              "    }\n",
              "\n",
              "    .dataframe tbody tr th {\n",
              "        vertical-align: top;\n",
              "    }\n",
              "\n",
              "    .dataframe thead th {\n",
              "        text-align: right;\n",
              "    }\n",
              "</style>\n",
              "<table border=\"1\" class=\"dataframe\">\n",
              "  <thead>\n",
              "    <tr style=\"text-align: right;\">\n",
              "      <th></th>\n",
              "      <th>Model</th>\n",
              "      <th>Accuracy</th>\n",
              "      <th>Recall</th>\n",
              "      <th>Precision</th>\n",
              "    </tr>\n",
              "  </thead>\n",
              "  <tbody>\n",
              "    <tr>\n",
              "      <th>5</th>\n",
              "      <td>Random Forest</td>\n",
              "      <td>86.38</td>\n",
              "      <td>77.54</td>\n",
              "      <td>83.2</td>\n",
              "    </tr>\n",
              "  </tbody>\n",
              "</table>\n",
              "</div>"
            ],
            "text/plain": [
              "           Model  Accuracy  Recall  Precision\n",
              "5  Random Forest     86.38   77.54       83.2"
            ]
          },
          "execution_count": 49,
          "metadata": {},
          "output_type": "execute_result"
        }
      ],
      "source": [
        "# Random Forest\n",
        "\n",
        "random_forest = RandomForestClassifier(max_depth=20, n_estimators=1000)\n",
        "random_forest.fit(X_train, y_train)\n",
        "y_pred = random_forest.predict(X_test)\n",
        "acc_random_forest = round(accuracy_score(y_test, y_pred) * 100, 2)\n",
        "rec_random_forest = round(recall_score(y_test, y_pred, average='macro') * 100, 2)\n",
        "pre_random_forest = round(precision_score(y_test, y_pred, average='macro') * 100, 2)\n",
        "\n",
        "comparison_df = comparison_df.append({'Model': 'Random Forest', 'Accuracy': acc_random_forest,\n",
        "                                        'Recall': rec_random_forest, 'Precision': pre_random_forest}, ignore_index=True)\n",
        "\n",
        "comparison_df[comparison_df['Model'] == 'Random Forest']"
      ]
    },
    {
      "cell_type": "code",
      "execution_count": null,
      "metadata": {
        "id": "t-0kDW_6c-Ua",
        "outputId": "7d16cbb4-0f0d-4d6a-c20a-48172ea931b1"
      },
      "outputs": [
        {
          "data": {
            "text/html": [
              "<div>\n",
              "<style scoped>\n",
              "    .dataframe tbody tr th:only-of-type {\n",
              "        vertical-align: middle;\n",
              "    }\n",
              "\n",
              "    .dataframe tbody tr th {\n",
              "        vertical-align: top;\n",
              "    }\n",
              "\n",
              "    .dataframe thead th {\n",
              "        text-align: right;\n",
              "    }\n",
              "</style>\n",
              "<table border=\"1\" class=\"dataframe\">\n",
              "  <thead>\n",
              "    <tr style=\"text-align: right;\">\n",
              "      <th></th>\n",
              "      <th>Model</th>\n",
              "      <th>Accuracy</th>\n",
              "      <th>Recall</th>\n",
              "      <th>Precision</th>\n",
              "    </tr>\n",
              "  </thead>\n",
              "  <tbody>\n",
              "    <tr>\n",
              "      <th>6</th>\n",
              "      <td>Gradient Boosting</td>\n",
              "      <td>87.92</td>\n",
              "      <td>80.64</td>\n",
              "      <td>84.94</td>\n",
              "    </tr>\n",
              "  </tbody>\n",
              "</table>\n",
              "</div>"
            ],
            "text/plain": [
              "               Model  Accuracy  Recall  Precision\n",
              "6  Gradient Boosting     87.92   80.64      84.94"
            ]
          },
          "execution_count": 50,
          "metadata": {},
          "output_type": "execute_result"
        }
      ],
      "source": [
        "# Gradient Boosting\n",
        "\n",
        "gradient_boosting = GradientBoostingClassifier(max_depth=5)\n",
        "gradient_boosting.fit(X_train, y_train)\n",
        "y_pred = gradient_boosting.predict(X_test)\n",
        "acc_gradient_boosting = round(accuracy_score(y_test, y_pred) * 100, 2)\n",
        "rec_gradient_boosting = round(recall_score(y_test, y_pred, average='macro') * 100, 2)\n",
        "pre_gradient_boosting = round(precision_score(y_test, y_pred, average='macro') * 100, 2)\n",
        "\n",
        "comparison_df = comparison_df.append({'Model': 'Gradient Boosting', 'Accuracy': acc_gradient_boosting,\n",
        "                                        'Recall': rec_gradient_boosting, 'Precision': pre_gradient_boosting}, ignore_index=True)\n",
        "\n",
        "comparison_df[comparison_df['Model'] == 'Gradient Boosting']"
      ]
    },
    {
      "cell_type": "code",
      "execution_count": null,
      "metadata": {
        "id": "Oa8e30UQc-Ua",
        "outputId": "6c8843c7-9187-4be8-8432-9cd1d7e2728e"
      },
      "outputs": [
        {
          "data": {
            "text/html": [
              "<div>\n",
              "<style scoped>\n",
              "    .dataframe tbody tr th:only-of-type {\n",
              "        vertical-align: middle;\n",
              "    }\n",
              "\n",
              "    .dataframe tbody tr th {\n",
              "        vertical-align: top;\n",
              "    }\n",
              "\n",
              "    .dataframe thead th {\n",
              "        text-align: right;\n",
              "    }\n",
              "</style>\n",
              "<table border=\"1\" class=\"dataframe\">\n",
              "  <thead>\n",
              "    <tr style=\"text-align: right;\">\n",
              "      <th></th>\n",
              "      <th>Model</th>\n",
              "      <th>Accuracy</th>\n",
              "      <th>Recall</th>\n",
              "      <th>Precision</th>\n",
              "    </tr>\n",
              "  </thead>\n",
              "  <tbody>\n",
              "    <tr>\n",
              "      <th>7</th>\n",
              "      <td>XGBoost</td>\n",
              "      <td>87.56</td>\n",
              "      <td>80.54</td>\n",
              "      <td>84.15</td>\n",
              "    </tr>\n",
              "  </tbody>\n",
              "</table>\n",
              "</div>"
            ],
            "text/plain": [
              "     Model  Accuracy  Recall  Precision\n",
              "7  XGBoost     87.56   80.54      84.15"
            ]
          },
          "execution_count": 51,
          "metadata": {},
          "output_type": "execute_result"
        }
      ],
      "source": [
        "# XGBoost\n",
        "\n",
        "y_train_xgb = y_train.map({'<=50K': 0, '>50K': 1})\n",
        "y_test_xgb = y_test.map({'<=50K': 0, '>50K': 1})\n",
        "\n",
        "xgboost = xgb.XGBClassifier(max_depth=5, n_estimators=100)\n",
        "xgboost.fit(X_train, y_train_xgb)\n",
        "y_pred = xgboost.predict(X_test)\n",
        "acc_xgboost = round(accuracy_score(y_test_xgb, y_pred) * 100, 2)\n",
        "rec_xgboost = round(recall_score(y_test_xgb, y_pred, average='macro') * 100, 2)\n",
        "pre_xgboost = round(precision_score(y_test_xgb, y_pred, average='macro') * 100, 2)\n",
        "\n",
        "comparison_df = comparison_df.append({'Model': 'XGBoost', 'Accuracy': acc_xgboost,\n",
        "                                        'Recall': rec_xgboost, 'Precision': pre_xgboost}, ignore_index=True)\n",
        "\n",
        "comparison_df[comparison_df['Model'] == 'XGBoost']"
      ]
    },
    {
      "cell_type": "code",
      "execution_count": null,
      "metadata": {
        "id": "aqoAzgDdc-Ua",
        "outputId": "1371dae4-e618-4b3b-fbd0-f1aa134d2881"
      },
      "outputs": [
        {
          "data": {
            "text/html": [
              "<div>\n",
              "<style scoped>\n",
              "    .dataframe tbody tr th:only-of-type {\n",
              "        vertical-align: middle;\n",
              "    }\n",
              "\n",
              "    .dataframe tbody tr th {\n",
              "        vertical-align: top;\n",
              "    }\n",
              "\n",
              "    .dataframe thead th {\n",
              "        text-align: right;\n",
              "    }\n",
              "</style>\n",
              "<table border=\"1\" class=\"dataframe\">\n",
              "  <thead>\n",
              "    <tr style=\"text-align: right;\">\n",
              "      <th></th>\n",
              "      <th>Model</th>\n",
              "      <th>Accuracy</th>\n",
              "      <th>Recall</th>\n",
              "      <th>Precision</th>\n",
              "    </tr>\n",
              "  </thead>\n",
              "  <tbody>\n",
              "    <tr>\n",
              "      <th>8</th>\n",
              "      <td>Perceptron</td>\n",
              "      <td>75.91</td>\n",
              "      <td>50.06</td>\n",
              "      <td>87.95</td>\n",
              "    </tr>\n",
              "  </tbody>\n",
              "</table>\n",
              "</div>"
            ],
            "text/plain": [
              "        Model  Accuracy  Recall  Precision\n",
              "8  Perceptron     75.91   50.06      87.95"
            ]
          },
          "execution_count": 52,
          "metadata": {},
          "output_type": "execute_result"
        }
      ],
      "source": [
        "# Perceptron\n",
        "\n",
        "perceptron = Perceptron(alpha=0.01, penalty='elasticnet')\n",
        "perceptron.fit(X_train, y_train)\n",
        "y_pred = perceptron.predict(X_test)\n",
        "acc_perceptron = round(accuracy_score(y_test, y_pred) * 100, 2)\n",
        "rec_perceptron = round(recall_score(y_test, y_pred, average='macro') * 100, 2)\n",
        "pre_perceptron = round(precision_score(y_test, y_pred, average='macro') * 100, 2)\n",
        "\n",
        "comparison_df = comparison_df.append({'Model': 'Perceptron', 'Accuracy': acc_perceptron,\n",
        "                                        'Recall': rec_perceptron, 'Precision': pre_perceptron}, ignore_index=True)\n",
        "\n",
        "comparison_df[comparison_df['Model'] == 'Perceptron']"
      ]
    },
    {
      "cell_type": "code",
      "execution_count": null,
      "metadata": {
        "id": "zJHWRnJJc-Ub",
        "outputId": "223e436f-5d68-44be-ea3e-2dc87c2630ed"
      },
      "outputs": [
        {
          "data": {
            "text/html": [
              "<div>\n",
              "<style scoped>\n",
              "    .dataframe tbody tr th:only-of-type {\n",
              "        vertical-align: middle;\n",
              "    }\n",
              "\n",
              "    .dataframe tbody tr th {\n",
              "        vertical-align: top;\n",
              "    }\n",
              "\n",
              "    .dataframe thead th {\n",
              "        text-align: right;\n",
              "    }\n",
              "</style>\n",
              "<table border=\"1\" class=\"dataframe\">\n",
              "  <thead>\n",
              "    <tr style=\"text-align: right;\">\n",
              "      <th></th>\n",
              "      <th>Model</th>\n",
              "      <th>Accuracy</th>\n",
              "      <th>Recall</th>\n",
              "      <th>Precision</th>\n",
              "    </tr>\n",
              "  </thead>\n",
              "  <tbody>\n",
              "    <tr>\n",
              "      <th>9</th>\n",
              "      <td>MLP Classifier</td>\n",
              "      <td>85.92</td>\n",
              "      <td>78.33</td>\n",
              "      <td>81.62</td>\n",
              "    </tr>\n",
              "  </tbody>\n",
              "</table>\n",
              "</div>"
            ],
            "text/plain": [
              "            Model  Accuracy  Recall  Precision\n",
              "9  MLP Classifier     85.92   78.33      81.62"
            ]
          },
          "execution_count": 53,
          "metadata": {},
          "output_type": "execute_result"
        }
      ],
      "source": [
        "# MLP Classifier\n",
        "\n",
        "mlp = MLPClassifier(alpha=0.1, hidden_layer_sizes=(16, 16), learning_rate='adaptive')\n",
        "mlp.fit(X_train, y_train)\n",
        "y_pred = mlp.predict(X_test)\n",
        "acc_mlp = round(accuracy_score(y_test, y_pred) * 100, 2)\n",
        "rec_mlp = round(recall_score(y_test, y_pred, average='macro') * 100, 2)\n",
        "pre_mlp = round(precision_score(y_test, y_pred, average='macro') * 100, 2)\n",
        "\n",
        "comparison_df = comparison_df.append({'Model': 'MLP Classifier', 'Accuracy': acc_mlp,\n",
        "                                        'Recall': rec_mlp, 'Precision': pre_mlp}, ignore_index=True)\n",
        "\n",
        "comparison_df[comparison_df['Model'] == 'MLP Classifier']"
      ]
    },
    {
      "cell_type": "code",
      "execution_count": null,
      "metadata": {
        "id": "x0l4J-xcc-Ub",
        "outputId": "8dfaf6b4-7985-456d-b9d9-a553005a64ad"
      },
      "outputs": [
        {
          "data": {
            "text/html": [
              "<div>\n",
              "<style scoped>\n",
              "    .dataframe tbody tr th:only-of-type {\n",
              "        vertical-align: middle;\n",
              "    }\n",
              "\n",
              "    .dataframe tbody tr th {\n",
              "        vertical-align: top;\n",
              "    }\n",
              "\n",
              "    .dataframe thead th {\n",
              "        text-align: right;\n",
              "    }\n",
              "</style>\n",
              "<table border=\"1\" class=\"dataframe\">\n",
              "  <thead>\n",
              "    <tr style=\"text-align: right;\">\n",
              "      <th></th>\n",
              "      <th>Model</th>\n",
              "      <th>Accuracy</th>\n",
              "      <th>Recall</th>\n",
              "      <th>Precision</th>\n",
              "    </tr>\n",
              "  </thead>\n",
              "  <tbody>\n",
              "    <tr>\n",
              "      <th>10</th>\n",
              "      <td>SGD Classifier</td>\n",
              "      <td>85.31</td>\n",
              "      <td>76.79</td>\n",
              "      <td>81.02</td>\n",
              "    </tr>\n",
              "  </tbody>\n",
              "</table>\n",
              "</div>"
            ],
            "text/plain": [
              "             Model  Accuracy  Recall  Precision\n",
              "10  SGD Classifier     85.31   76.79      81.02"
            ]
          },
          "execution_count": 54,
          "metadata": {},
          "output_type": "execute_result"
        }
      ],
      "source": [
        "# SGD Classifier\n",
        "\n",
        "sgd = SGDClassifier(alpha=0.001, loss='modified_huber', penalty='l1')\n",
        "sgd.fit(X_train, y_train)\n",
        "y_pred = sgd.predict(X_test)\n",
        "acc_sgd = round(accuracy_score(y_test, y_pred) * 100, 2)\n",
        "rec_sgd = round(recall_score(y_test, y_pred, average='macro') * 100, 2)\n",
        "pre_sgd = round(precision_score(y_test, y_pred, average='macro') * 100, 2)\n",
        "\n",
        "comparison_df = comparison_df.append({'Model': 'SGD Classifier', 'Accuracy': acc_sgd,\n",
        "                                        'Recall': rec_sgd, 'Precision': pre_sgd}, ignore_index=True)\n",
        "\n",
        "comparison_df[comparison_df['Model'] == 'SGD Classifier']"
      ]
    },
    {
      "cell_type": "code",
      "execution_count": null,
      "metadata": {
        "id": "fBsD27eSc-Ub",
        "outputId": "963cbc56-f5fd-4d6a-8367-db207723e769"
      },
      "outputs": [
        {
          "data": {
            "text/html": [
              "<div>\n",
              "<style scoped>\n",
              "    .dataframe tbody tr th:only-of-type {\n",
              "        vertical-align: middle;\n",
              "    }\n",
              "\n",
              "    .dataframe tbody tr th {\n",
              "        vertical-align: top;\n",
              "    }\n",
              "\n",
              "    .dataframe thead th {\n",
              "        text-align: right;\n",
              "    }\n",
              "</style>\n",
              "<table border=\"1\" class=\"dataframe\">\n",
              "  <thead>\n",
              "    <tr style=\"text-align: right;\">\n",
              "      <th></th>\n",
              "      <th>Model</th>\n",
              "      <th>Accuracy</th>\n",
              "      <th>Recall</th>\n",
              "      <th>Precision</th>\n",
              "    </tr>\n",
              "  </thead>\n",
              "  <tbody>\n",
              "    <tr>\n",
              "      <th>11</th>\n",
              "      <td>LightGBM</td>\n",
              "      <td>87.86</td>\n",
              "      <td>80.84</td>\n",
              "      <td>84.66</td>\n",
              "    </tr>\n",
              "  </tbody>\n",
              "</table>\n",
              "</div>"
            ],
            "text/plain": [
              "       Model  Accuracy  Recall  Precision\n",
              "11  LightGBM     87.86   80.84      84.66"
            ]
          },
          "execution_count": 55,
          "metadata": {},
          "output_type": "execute_result"
        }
      ],
      "source": [
        "# LightGBM\n",
        "\n",
        "lgbm = lgb.LGBMClassifier(max_depth=20)\n",
        "lgbm.fit(X_train, y_train)\n",
        "y_pred = lgbm.predict(X_test)\n",
        "acc_lgbm = round(accuracy_score(y_test, y_pred) * 100, 2)\n",
        "rec_lgbm = round(recall_score(y_test, y_pred, average='macro') * 100, 2)\n",
        "pre_lgbm = round(precision_score(y_test, y_pred, average='macro') * 100, 2)\n",
        "\n",
        "comparison_df = comparison_df.append({'Model': 'LightGBM', 'Accuracy': acc_lgbm,\n",
        "                                        'Recall': rec_lgbm, 'Precision': pre_lgbm}, ignore_index=True)\n",
        "\n",
        "comparison_df[comparison_df['Model'] == 'LightGBM']"
      ]
    },
    {
      "cell_type": "code",
      "execution_count": null,
      "metadata": {
        "id": "08Rr8Jg4c-Ub",
        "outputId": "786bafbf-8262-4980-81cc-1927f3edbfb4"
      },
      "outputs": [
        {
          "data": {
            "text/html": [
              "<div>\n",
              "<style scoped>\n",
              "    .dataframe tbody tr th:only-of-type {\n",
              "        vertical-align: middle;\n",
              "    }\n",
              "\n",
              "    .dataframe tbody tr th {\n",
              "        vertical-align: top;\n",
              "    }\n",
              "\n",
              "    .dataframe thead th {\n",
              "        text-align: right;\n",
              "    }\n",
              "</style>\n",
              "<table border=\"1\" class=\"dataframe\">\n",
              "  <thead>\n",
              "    <tr style=\"text-align: right;\">\n",
              "      <th></th>\n",
              "      <th>Model</th>\n",
              "      <th>Accuracy</th>\n",
              "      <th>Recall</th>\n",
              "      <th>Precision</th>\n",
              "    </tr>\n",
              "  </thead>\n",
              "  <tbody>\n",
              "    <tr>\n",
              "      <th>6</th>\n",
              "      <td>Gradient Boosting</td>\n",
              "      <td>87.92</td>\n",
              "      <td>80.64</td>\n",
              "      <td>84.94</td>\n",
              "    </tr>\n",
              "    <tr>\n",
              "      <th>11</th>\n",
              "      <td>LightGBM</td>\n",
              "      <td>87.86</td>\n",
              "      <td>80.84</td>\n",
              "      <td>84.66</td>\n",
              "    </tr>\n",
              "    <tr>\n",
              "      <th>7</th>\n",
              "      <td>XGBoost</td>\n",
              "      <td>87.56</td>\n",
              "      <td>80.54</td>\n",
              "      <td>84.15</td>\n",
              "    </tr>\n",
              "    <tr>\n",
              "      <th>5</th>\n",
              "      <td>Random Forest</td>\n",
              "      <td>86.38</td>\n",
              "      <td>77.54</td>\n",
              "      <td>83.20</td>\n",
              "    </tr>\n",
              "    <tr>\n",
              "      <th>9</th>\n",
              "      <td>MLP Classifier</td>\n",
              "      <td>85.92</td>\n",
              "      <td>78.33</td>\n",
              "      <td>81.62</td>\n",
              "    </tr>\n",
              "    <tr>\n",
              "      <th>4</th>\n",
              "      <td>Decision Tree</td>\n",
              "      <td>85.72</td>\n",
              "      <td>76.11</td>\n",
              "      <td>82.49</td>\n",
              "    </tr>\n",
              "    <tr>\n",
              "      <th>0</th>\n",
              "      <td>Logistic Regression</td>\n",
              "      <td>85.58</td>\n",
              "      <td>77.17</td>\n",
              "      <td>81.46</td>\n",
              "    </tr>\n",
              "    <tr>\n",
              "      <th>2</th>\n",
              "      <td>SVC</td>\n",
              "      <td>85.55</td>\n",
              "      <td>76.67</td>\n",
              "      <td>81.67</td>\n",
              "    </tr>\n",
              "    <tr>\n",
              "      <th>10</th>\n",
              "      <td>SGD Classifier</td>\n",
              "      <td>85.31</td>\n",
              "      <td>76.79</td>\n",
              "      <td>81.02</td>\n",
              "    </tr>\n",
              "    <tr>\n",
              "      <th>1</th>\n",
              "      <td>KNN</td>\n",
              "      <td>83.46</td>\n",
              "      <td>74.67</td>\n",
              "      <td>77.97</td>\n",
              "    </tr>\n",
              "    <tr>\n",
              "      <th>3</th>\n",
              "      <td>Gaussian Naive Bayes</td>\n",
              "      <td>76.91</td>\n",
              "      <td>79.46</td>\n",
              "      <td>72.53</td>\n",
              "    </tr>\n",
              "    <tr>\n",
              "      <th>8</th>\n",
              "      <td>Perceptron</td>\n",
              "      <td>75.91</td>\n",
              "      <td>50.06</td>\n",
              "      <td>87.95</td>\n",
              "    </tr>\n",
              "  </tbody>\n",
              "</table>\n",
              "</div>"
            ],
            "text/plain": [
              "                   Model  Accuracy  Recall  Precision\n",
              "6      Gradient Boosting     87.92   80.64      84.94\n",
              "11              LightGBM     87.86   80.84      84.66\n",
              "7                XGBoost     87.56   80.54      84.15\n",
              "5          Random Forest     86.38   77.54      83.20\n",
              "9         MLP Classifier     85.92   78.33      81.62\n",
              "4          Decision Tree     85.72   76.11      82.49\n",
              "0    Logistic Regression     85.58   77.17      81.46\n",
              "2                    SVC     85.55   76.67      81.67\n",
              "10        SGD Classifier     85.31   76.79      81.02\n",
              "1                    KNN     83.46   74.67      77.97\n",
              "3   Gaussian Naive Bayes     76.91   79.46      72.53\n",
              "8             Perceptron     75.91   50.06      87.95"
            ]
          },
          "execution_count": 56,
          "metadata": {},
          "output_type": "execute_result"
        }
      ],
      "source": [
        "# model comparison\n",
        "\n",
        "comparison_df.sort_values(by='Accuracy', ascending=False)"
      ]
    },
    {
      "cell_type": "markdown",
      "metadata": {
        "id": "6nu651_Gc-Ub"
      },
      "source": [
        "### Model Selection\n",
        "\n",
        "From this comparison, we can see the performance of boosting models has been better than the rest with models like random forest, MLP Classifier, etc not very much behind. LightGBM is the model with highest accuracy and it will be selected for the model deployment and for predicting the potential customers."
      ]
    },
    {
      "cell_type": "code",
      "execution_count": null,
      "metadata": {
        "id": "iN3Rk_59c-Uc"
      },
      "outputs": [],
      "source": [
        "# full train data\n",
        "\n",
        "X_train = X.copy()\n",
        "y_train = y.copy()"
      ]
    },
    {
      "cell_type": "code",
      "execution_count": null,
      "metadata": {
        "id": "skKy5DFmc-Uc",
        "outputId": "c26d7da4-5d5a-4093-ab81-c78aeb68e720"
      },
      "outputs": [
        {
          "name": "stdout",
          "output_type": "stream",
          "text": [
            "(16281, 14)\n"
          ]
        },
        {
          "data": {
            "text/html": [
              "<div>\n",
              "<style scoped>\n",
              "    .dataframe tbody tr th:only-of-type {\n",
              "        vertical-align: middle;\n",
              "    }\n",
              "\n",
              "    .dataframe tbody tr th {\n",
              "        vertical-align: top;\n",
              "    }\n",
              "\n",
              "    .dataframe thead th {\n",
              "        text-align: right;\n",
              "    }\n",
              "</style>\n",
              "<table border=\"1\" class=\"dataframe\">\n",
              "  <thead>\n",
              "    <tr style=\"text-align: right;\">\n",
              "      <th></th>\n",
              "      <th>RowID</th>\n",
              "      <th>age</th>\n",
              "      <th>workclass</th>\n",
              "      <th>education</th>\n",
              "      <th>education-num</th>\n",
              "      <th>marital-status</th>\n",
              "      <th>occupation</th>\n",
              "      <th>relationship</th>\n",
              "      <th>race</th>\n",
              "      <th>sex</th>\n",
              "      <th>capital-gain</th>\n",
              "      <th>capital-loss</th>\n",
              "      <th>hours-per-week</th>\n",
              "      <th>native-country</th>\n",
              "    </tr>\n",
              "  </thead>\n",
              "  <tbody>\n",
              "    <tr>\n",
              "      <th>0</th>\n",
              "      <td>Row0</td>\n",
              "      <td>25</td>\n",
              "      <td>Private</td>\n",
              "      <td>11th</td>\n",
              "      <td>7</td>\n",
              "      <td>Never-married</td>\n",
              "      <td>Machine-op-inspct</td>\n",
              "      <td>Own-child</td>\n",
              "      <td>Black</td>\n",
              "      <td>Male</td>\n",
              "      <td>0</td>\n",
              "      <td>0</td>\n",
              "      <td>40</td>\n",
              "      <td>United-States</td>\n",
              "    </tr>\n",
              "    <tr>\n",
              "      <th>1</th>\n",
              "      <td>Row1</td>\n",
              "      <td>38</td>\n",
              "      <td>Private</td>\n",
              "      <td>HS-grad</td>\n",
              "      <td>9</td>\n",
              "      <td>Married-civ-spouse</td>\n",
              "      <td>Farming-fishing</td>\n",
              "      <td>Husband</td>\n",
              "      <td>White</td>\n",
              "      <td>Male</td>\n",
              "      <td>0</td>\n",
              "      <td>0</td>\n",
              "      <td>50</td>\n",
              "      <td>United-States</td>\n",
              "    </tr>\n",
              "    <tr>\n",
              "      <th>2</th>\n",
              "      <td>Row2</td>\n",
              "      <td>28</td>\n",
              "      <td>Local-gov</td>\n",
              "      <td>Assoc-acdm</td>\n",
              "      <td>12</td>\n",
              "      <td>Married-civ-spouse</td>\n",
              "      <td>Protective-serv</td>\n",
              "      <td>Husband</td>\n",
              "      <td>White</td>\n",
              "      <td>Male</td>\n",
              "      <td>0</td>\n",
              "      <td>0</td>\n",
              "      <td>40</td>\n",
              "      <td>United-States</td>\n",
              "    </tr>\n",
              "    <tr>\n",
              "      <th>3</th>\n",
              "      <td>Row3</td>\n",
              "      <td>44</td>\n",
              "      <td>Private</td>\n",
              "      <td>Some-college</td>\n",
              "      <td>10</td>\n",
              "      <td>Married-civ-spouse</td>\n",
              "      <td>Machine-op-inspct</td>\n",
              "      <td>Husband</td>\n",
              "      <td>Black</td>\n",
              "      <td>Male</td>\n",
              "      <td>7688</td>\n",
              "      <td>0</td>\n",
              "      <td>40</td>\n",
              "      <td>United-States</td>\n",
              "    </tr>\n",
              "    <tr>\n",
              "      <th>4</th>\n",
              "      <td>Row4</td>\n",
              "      <td>18</td>\n",
              "      <td>NaN</td>\n",
              "      <td>Some-college</td>\n",
              "      <td>10</td>\n",
              "      <td>Never-married</td>\n",
              "      <td>NaN</td>\n",
              "      <td>Own-child</td>\n",
              "      <td>White</td>\n",
              "      <td>Female</td>\n",
              "      <td>0</td>\n",
              "      <td>0</td>\n",
              "      <td>30</td>\n",
              "      <td>United-States</td>\n",
              "    </tr>\n",
              "  </tbody>\n",
              "</table>\n",
              "</div>"
            ],
            "text/plain": [
              "  RowID  age  workclass     education  education-num      marital-status  \\\n",
              "0  Row0   25    Private          11th              7       Never-married   \n",
              "1  Row1   38    Private       HS-grad              9  Married-civ-spouse   \n",
              "2  Row2   28  Local-gov    Assoc-acdm             12  Married-civ-spouse   \n",
              "3  Row3   44    Private  Some-college             10  Married-civ-spouse   \n",
              "4  Row4   18        NaN  Some-college             10       Never-married   \n",
              "\n",
              "          occupation relationship   race     sex  capital-gain  capital-loss  \\\n",
              "0  Machine-op-inspct    Own-child  Black    Male             0             0   \n",
              "1    Farming-fishing      Husband  White    Male             0             0   \n",
              "2    Protective-serv      Husband  White    Male             0             0   \n",
              "3  Machine-op-inspct      Husband  Black    Male          7688             0   \n",
              "4                NaN    Own-child  White  Female             0             0   \n",
              "\n",
              "   hours-per-week native-country  \n",
              "0              40  United-States  \n",
              "1              50  United-States  \n",
              "2              40  United-States  \n",
              "3              40  United-States  \n",
              "4              30  United-States  "
            ]
          },
          "execution_count": 16,
          "metadata": {},
          "output_type": "execute_result"
        }
      ],
      "source": [
        "# load test data\n",
        "\n",
        "deploy = pd.read_excel('data\\potential-customers.xlsx')\n",
        "print(deploy.shape)\n",
        "deploy.head()"
      ]
    },
    {
      "cell_type": "code",
      "execution_count": null,
      "metadata": {
        "id": "uaOt_d7Mc-Uc",
        "outputId": "4488499d-2006-4020-89d6-5aa6e1cfe1fc"
      },
      "outputs": [
        {
          "name": "stdout",
          "output_type": "stream",
          "text": [
            "<class 'pandas.core.frame.DataFrame'>\n",
            "RangeIndex: 16281 entries, 0 to 16280\n",
            "Data columns (total 14 columns):\n",
            " #   Column          Non-Null Count  Dtype \n",
            "---  ------          --------------  ----- \n",
            " 0   RowID           16281 non-null  object\n",
            " 1   age             16281 non-null  int64 \n",
            " 2   workclass       15318 non-null  object\n",
            " 3   education       16281 non-null  object\n",
            " 4   education-num   16281 non-null  int64 \n",
            " 5   marital-status  16281 non-null  object\n",
            " 6   occupation      15315 non-null  object\n",
            " 7   relationship    16281 non-null  object\n",
            " 8   race            16281 non-null  object\n",
            " 9   sex             16281 non-null  object\n",
            " 10  capital-gain    16281 non-null  int64 \n",
            " 11  capital-loss    16281 non-null  int64 \n",
            " 12  hours-per-week  16281 non-null  int64 \n",
            " 13  native-country  16007 non-null  object\n",
            "dtypes: int64(5), object(9)\n",
            "memory usage: 1.7+ MB\n"
          ]
        }
      ],
      "source": [
        "# checking for missing values\n",
        "\n",
        "deploy.info()"
      ]
    },
    {
      "cell_type": "code",
      "execution_count": null,
      "metadata": {
        "id": "gRTOSJ4bc-Uc",
        "outputId": "e859d392-0b07-4fcc-9316-56485084bb0e"
      },
      "outputs": [
        {
          "name": "stdout",
          "output_type": "stream",
          "text": [
            "0 missing values left.\n"
          ]
        }
      ],
      "source": [
        "# using mode to fill missing values, as all the columns with missing values are categorical\n",
        "\n",
        "deploy['workclass'] = deploy['workclass'].fillna(X_train['workclass'].mode()[0])\n",
        "deploy['occupation'] = deploy['occupation'].fillna(X_train['occupation'].mode()[0])\n",
        "deploy['native-country'] = deploy['native-country'].fillna(X_train['native-country'].mode()[0])\n",
        "\n",
        "print('{} missing values left.'.format(deploy.isnull().sum().sum()))"
      ]
    },
    {
      "cell_type": "code",
      "execution_count": null,
      "metadata": {
        "id": "lDwnqDW_c-Uc",
        "outputId": "91e31817-24dd-4007-9931-7e992a416ca3"
      },
      "outputs": [
        {
          "data": {
            "text/html": [
              "<div>\n",
              "<style scoped>\n",
              "    .dataframe tbody tr th:only-of-type {\n",
              "        vertical-align: middle;\n",
              "    }\n",
              "\n",
              "    .dataframe tbody tr th {\n",
              "        vertical-align: top;\n",
              "    }\n",
              "\n",
              "    .dataframe thead th {\n",
              "        text-align: right;\n",
              "    }\n",
              "</style>\n",
              "<table border=\"1\" class=\"dataframe\">\n",
              "  <thead>\n",
              "    <tr style=\"text-align: right;\">\n",
              "      <th></th>\n",
              "      <th>age</th>\n",
              "      <th>workclass</th>\n",
              "      <th>education</th>\n",
              "      <th>education-num</th>\n",
              "      <th>marital-status</th>\n",
              "      <th>occupation</th>\n",
              "      <th>relationship</th>\n",
              "      <th>race</th>\n",
              "      <th>sex</th>\n",
              "      <th>capital-gain</th>\n",
              "      <th>capital-loss</th>\n",
              "      <th>hours-per-week</th>\n",
              "      <th>native-country</th>\n",
              "    </tr>\n",
              "  </thead>\n",
              "  <tbody>\n",
              "    <tr>\n",
              "      <th>0</th>\n",
              "      <td>25</td>\n",
              "      <td>Private</td>\n",
              "      <td>11th</td>\n",
              "      <td>7</td>\n",
              "      <td>Never-married</td>\n",
              "      <td>Machine-op-inspct</td>\n",
              "      <td>Own-child</td>\n",
              "      <td>Black</td>\n",
              "      <td>Male</td>\n",
              "      <td>0</td>\n",
              "      <td>0</td>\n",
              "      <td>40</td>\n",
              "      <td>United-States</td>\n",
              "    </tr>\n",
              "    <tr>\n",
              "      <th>1</th>\n",
              "      <td>38</td>\n",
              "      <td>Private</td>\n",
              "      <td>HS-grad</td>\n",
              "      <td>9</td>\n",
              "      <td>Married-civ-spouse</td>\n",
              "      <td>Farming-fishing</td>\n",
              "      <td>Husband</td>\n",
              "      <td>White</td>\n",
              "      <td>Male</td>\n",
              "      <td>0</td>\n",
              "      <td>0</td>\n",
              "      <td>50</td>\n",
              "      <td>United-States</td>\n",
              "    </tr>\n",
              "    <tr>\n",
              "      <th>2</th>\n",
              "      <td>28</td>\n",
              "      <td>Local-gov</td>\n",
              "      <td>Assoc-acdm</td>\n",
              "      <td>12</td>\n",
              "      <td>Married-civ-spouse</td>\n",
              "      <td>Protective-serv</td>\n",
              "      <td>Husband</td>\n",
              "      <td>White</td>\n",
              "      <td>Male</td>\n",
              "      <td>0</td>\n",
              "      <td>0</td>\n",
              "      <td>40</td>\n",
              "      <td>United-States</td>\n",
              "    </tr>\n",
              "    <tr>\n",
              "      <th>3</th>\n",
              "      <td>44</td>\n",
              "      <td>Private</td>\n",
              "      <td>Some-college</td>\n",
              "      <td>10</td>\n",
              "      <td>Married-civ-spouse</td>\n",
              "      <td>Machine-op-inspct</td>\n",
              "      <td>Husband</td>\n",
              "      <td>Black</td>\n",
              "      <td>Male</td>\n",
              "      <td>7688</td>\n",
              "      <td>0</td>\n",
              "      <td>40</td>\n",
              "      <td>United-States</td>\n",
              "    </tr>\n",
              "    <tr>\n",
              "      <th>4</th>\n",
              "      <td>18</td>\n",
              "      <td>Private</td>\n",
              "      <td>Some-college</td>\n",
              "      <td>10</td>\n",
              "      <td>Never-married</td>\n",
              "      <td>Prof-specialty</td>\n",
              "      <td>Own-child</td>\n",
              "      <td>White</td>\n",
              "      <td>Female</td>\n",
              "      <td>0</td>\n",
              "      <td>0</td>\n",
              "      <td>30</td>\n",
              "      <td>United-States</td>\n",
              "    </tr>\n",
              "  </tbody>\n",
              "</table>\n",
              "</div>"
            ],
            "text/plain": [
              "   age  workclass     education  education-num      marital-status  \\\n",
              "0   25    Private          11th              7       Never-married   \n",
              "1   38    Private       HS-grad              9  Married-civ-spouse   \n",
              "2   28  Local-gov    Assoc-acdm             12  Married-civ-spouse   \n",
              "3   44    Private  Some-college             10  Married-civ-spouse   \n",
              "4   18    Private  Some-college             10       Never-married   \n",
              "\n",
              "          occupation relationship   race     sex  capital-gain  capital-loss  \\\n",
              "0  Machine-op-inspct    Own-child  Black    Male             0             0   \n",
              "1    Farming-fishing      Husband  White    Male             0             0   \n",
              "2    Protective-serv      Husband  White    Male             0             0   \n",
              "3  Machine-op-inspct      Husband  Black    Male          7688             0   \n",
              "4     Prof-specialty    Own-child  White  Female             0             0   \n",
              "\n",
              "   hours-per-week native-country  \n",
              "0              40  United-States  \n",
              "1              50  United-States  \n",
              "2              40  United-States  \n",
              "3              40  United-States  \n",
              "4              30  United-States  "
            ]
          },
          "execution_count": 19,
          "metadata": {},
          "output_type": "execute_result"
        }
      ],
      "source": [
        "# dropping 'RowID' column\n",
        "\n",
        "X_deploy = deploy.drop('RowID', axis=1)\n",
        "X_deploy.head()"
      ]
    },
    {
      "cell_type": "code",
      "execution_count": null,
      "metadata": {
        "id": "Gg5X2z4Wc-Ud"
      },
      "outputs": [],
      "source": [
        "# USA - Non-USA\n",
        "\n",
        "X_train['native-country'] = X_train['native-country'].apply(lambda x: 'USA' if x == 'United-States' else 'Non-USA')\n",
        "X_deploy['native-country'] = X_deploy['native-country'].apply(lambda x: 'USA' if x == 'United-States' else 'Non-USA')"
      ]
    },
    {
      "cell_type": "code",
      "execution_count": null,
      "metadata": {
        "id": "2g0DppJTc-Ud",
        "outputId": "350bf777-5aa3-43fe-84cb-230225118110"
      },
      "outputs": [
        {
          "name": "stdout",
          "output_type": "stream",
          "text": [
            "(32561, 57) (16281, 57)\n"
          ]
        }
      ],
      "source": [
        "# dummy encoding the categorical columns\n",
        "\n",
        "X_train = pd.get_dummies(X_train, drop_first=True)\n",
        "X_deploy = pd.get_dummies(X_deploy, drop_first=True)\n",
        "\n",
        "missing_cols = set(X_train.columns) - set(X_deploy.columns)\n",
        "for col in missing_cols:\n",
        "    X_deploy[col] = 0\n",
        "\n",
        "X_test = X_deploy[X_train.columns]\n",
        "\n",
        "print(X_train.shape, X_deploy.shape)"
      ]
    },
    {
      "cell_type": "code",
      "execution_count": null,
      "metadata": {
        "id": "8OoWM1J6c-Ud"
      },
      "outputs": [],
      "source": [
        "# scaling the data\n",
        "\n",
        "scaler = MinMaxScaler()\n",
        "X_train = scaler.fit_transform(X_train)\n",
        "X_deploy = scaler.transform(X_deploy)"
      ]
    },
    {
      "cell_type": "code",
      "execution_count": null,
      "metadata": {
        "id": "mvL6rDn_c-Ud"
      },
      "outputs": [],
      "source": [
        "# training the optimal found lightgbm model\n",
        "\n",
        "lgbm = lgb.LGBMClassifier(max_depth=20)\n",
        "lgbm.fit(X_train, y_train)\n",
        "y_pred = lgbm.predict(X_deploy)"
      ]
    },
    {
      "cell_type": "code",
      "execution_count": null,
      "metadata": {
        "id": "WY-JdxRGc-Ud",
        "outputId": "46fcf26a-1ed4-4324-a85d-8ef22994f853"
      },
      "outputs": [
        {
          "data": {
            "text/html": [
              "<div>\n",
              "<style scoped>\n",
              "    .dataframe tbody tr th:only-of-type {\n",
              "        vertical-align: middle;\n",
              "    }\n",
              "\n",
              "    .dataframe tbody tr th {\n",
              "        vertical-align: top;\n",
              "    }\n",
              "\n",
              "    .dataframe thead th {\n",
              "        text-align: right;\n",
              "    }\n",
              "</style>\n",
              "<table border=\"1\" class=\"dataframe\">\n",
              "  <thead>\n",
              "    <tr style=\"text-align: right;\">\n",
              "      <th></th>\n",
              "      <th>RowID</th>\n",
              "      <th>Predicted</th>\n",
              "    </tr>\n",
              "  </thead>\n",
              "  <tbody>\n",
              "    <tr>\n",
              "      <th>0</th>\n",
              "      <td>Row0</td>\n",
              "      <td>&lt;=50K</td>\n",
              "    </tr>\n",
              "    <tr>\n",
              "      <th>1</th>\n",
              "      <td>Row1</td>\n",
              "      <td>&lt;=50K</td>\n",
              "    </tr>\n",
              "    <tr>\n",
              "      <th>2</th>\n",
              "      <td>Row2</td>\n",
              "      <td>&lt;=50K</td>\n",
              "    </tr>\n",
              "    <tr>\n",
              "      <th>3</th>\n",
              "      <td>Row3</td>\n",
              "      <td>&gt;50K</td>\n",
              "    </tr>\n",
              "    <tr>\n",
              "      <th>4</th>\n",
              "      <td>Row4</td>\n",
              "      <td>&lt;=50K</td>\n",
              "    </tr>\n",
              "  </tbody>\n",
              "</table>\n",
              "</div>"
            ],
            "text/plain": [
              "  RowID Predicted\n",
              "0  Row0     <=50K\n",
              "1  Row1     <=50K\n",
              "2  Row2     <=50K\n",
              "3  Row3      >50K\n",
              "4  Row4     <=50K"
            ]
          },
          "execution_count": 24,
          "metadata": {},
          "output_type": "execute_result"
        }
      ],
      "source": [
        "# adding the predictions to the deploy dataframe\n",
        "\n",
        "deploy['Predicted'] = y_pred\n",
        "deploy = deploy[['RowID', 'Predicted']]\n",
        "deploy.head()"
      ]
    },
    {
      "cell_type": "code",
      "execution_count": null,
      "metadata": {
        "id": "kER5eTgxc-Ud",
        "outputId": "b2d1f84b-1f6d-4df4-b3e6-b4b011931ad5"
      },
      "outputs": [
        {
          "data": {
            "text/plain": [
              "(3234, 2)"
            ]
          },
          "execution_count": 25,
          "metadata": {},
          "output_type": "execute_result"
        }
      ],
      "source": [
        "# rowID for customers with income >50K\n",
        "\n",
        "deploy = deploy[deploy['Predicted'] == '>50K']\n",
        "deploy.shape"
      ]
    },
    {
      "cell_type": "code",
      "execution_count": null,
      "metadata": {
        "id": "sGC8BrNoc-Ue"
      },
      "outputs": [],
      "source": [
        "# saving the predictions\n",
        "\n",
        "rowID = deploy['RowID'].values\n",
        "np.savetxt('rowID.txt', rowID, fmt='%s')"
      ]
    },
    {
      "cell_type": "markdown",
      "metadata": {
        "id": "IY5fcZUrc-Ue"
      },
      "source": [
        "### Revenue Approximation"
      ]
    },
    {
      "cell_type": "code",
      "execution_count": null,
      "metadata": {
        "id": "_cw-qUm0c-Ue",
        "outputId": "e35ec335-1aea-4254-8c77-bc39c36cf02c"
      },
      "outputs": [
        {
          "name": "stdout",
          "output_type": "stream",
          "text": [
            "Total revenue: $240251.27\n"
          ]
        }
      ],
      "source": [
        "# revenue approximation\n",
        "\n",
        "total_targeted_customers = len(rowID)\n",
        "expected_conversion_rate_high = 0.1\n",
        "expected_revenue_per_customer_high = 980\n",
        "expected_conversion_rate_low = 0.05\n",
        "expected_revenue_per_customer_low = -310\n",
        "cost_per_targeted_customer = 10\n",
        "model_accuracy = 0.8792\n",
        "\n",
        "# revenu_high = 3234 * 0.1 * 980 * 0.87\n",
        "# revenu_low =  3234 * 0.05 * -310 * (1-0.87)\n",
        "\n",
        "\n",
        "total_revenue_high = total_targeted_customers * expected_conversion_rate_high * expected_revenue_per_customer_high * model_accuracy\n",
        "total_revenue_low = total_targeted_customers * expected_conversion_rate_low * expected_revenue_per_customer_low * (1 - model_accuracy)\n",
        "\n",
        "total_revenue = total_revenue_high + total_revenue_low - (cost_per_targeted_customer * total_targeted_customers)\n",
        "print('Total revenue: ${}'.format(round(total_revenue, 2)))"
      ]
    },
    {
      "cell_type": "code",
      "execution_count": null,
      "metadata": {
        "id": "WFok10GUc-Ue"
      },
      "outputs": [],
      "source": []
    }
  ],
  "metadata": {
    "colab": {
      "provenance": []
    },
    "kernelspec": {
      "display_name": "machinelearning",
      "language": "python",
      "name": "python3"
    },
    "language_info": {
      "codemirror_mode": {
        "name": "ipython",
        "version": 3
      },
      "file_extension": ".py",
      "mimetype": "text/x-python",
      "name": "python",
      "nbconvert_exporter": "python",
      "pygments_lexer": "ipython3",
      "version": "3.10.8"
    }
  },
  "nbformat": 4,
  "nbformat_minor": 0
}